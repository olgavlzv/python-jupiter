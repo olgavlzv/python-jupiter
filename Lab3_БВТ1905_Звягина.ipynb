{
 "cells": [
  {
   "cell_type": "markdown",
   "metadata": {},
   "source": [
    "# Лабораторная работа №3"
   ]
  },
  {
   "cell_type": "markdown",
   "metadata": {},
   "source": [
    "## Выполнила студентка группы БВТ1905 Звягина О.В."
   ]
  },
  {
   "cell_type": "markdown",
   "metadata": {},
   "source": [
    "### Задание 1"
   ]
  },
  {
   "cell_type": "code",
   "execution_count": 12,
   "metadata": {},
   "outputs": [],
   "source": [
    "import random\n",
    "import time"
   ]
  },
  {
   "cell_type": "markdown",
   "metadata": {},
   "source": [
    "#### Стандартный алгоритм поиска подстроки в Python"
   ]
  },
  {
   "cell_type": "code",
   "execution_count": 11,
   "metadata": {},
   "outputs": [
    {
     "output_type": "stream",
     "name": "stdout",
     "text": [
      "[15, 35]\nTime: 0.0009961128234863281 s\n"
     ]
    }
   ],
   "source": [
    "def standart(sub, string, case):\n",
    "    res = []\n",
    "    if not case:\n",
    "        string = string.lower() # Приведение текста к нижнему регистру\n",
    "    srez = '' # Для отсечки проверенной части строки\n",
    "    while string.find(sub) != -1:\n",
    "        a = string.find(sub)\n",
    "        res.append(a)\n",
    "        for i in range(a+1):\n",
    "            srez += chr(501)\n",
    "        string = srez + string[a+1:]\n",
    "    return res\n",
    "\n",
    "string = input(\"Введите строку: \")\n",
    "user_substring = input(\"Введите подстроку: \")\n",
    "user_letter_case = input(\"Введите 0, если важен регистр: \")\n",
    "user_letter_case = True if user_letter_case == 0 else False\n",
    "print(\"Ваша строка: \" + string)\n",
    "print(\"Ваша подстрока: \" + user_substring)\n",
    "time_start = time.time()\n",
    "print(standart(user_substring, string, user_letter_case))\n",
    "time_stop = time.time() - time_start\n",
    "print(\"Time: {0} s\".format(time_stop))"
   ]
  },
  {
   "cell_type": "markdown",
   "metadata": {},
   "source": [
    "#### Алгоритм Кнута-Морриса-Пратта"
   ]
  },
  {
   "cell_type": "code",
   "execution_count": 8,
   "metadata": {},
   "outputs": [
    {
     "output_type": "stream",
     "name": "stdout",
     "text": [
      "Ваша строка: не бойся когда ты один бойся когда ты два\nВаша подстрока: ты\n[15, 35]\nВремя: 0.0010077953338623047 с\n"
     ]
    }
   ],
   "source": [
    "def reversed(str):  # Для реверса строки\n",
    "    return str[::-1]\n",
    "\n",
    "\n",
    "def pratt(sub, string, case):\n",
    "    res = []\n",
    "    if not case:\n",
    "        string = string.lower()  # Приводим все буквы к нижнему регистру, если надо\n",
    "    while True:\n",
    "        symbol = chr(random.randint(0, 512))  # Ищем рандомный символ, которого нет в строке и подстроке\n",
    "        if symbol not in sub + string:\n",
    "            break\n",
    "    full = sub + symbol + string\n",
    "    iter_array = [0] * len(full)  # Делаем список с числом \"повторений\" префиксов, заполняем нулями\n",
    "    for i in range(1, len(full)):\n",
    "        search = full[0:i] # от 0 до i\n",
    "        reverse = full[i::-1] # от i до 0\n",
    "        for j in range(1, len(search)):\n",
    "            if search[0:j] == reversed(reverse[0:j]):\n",
    "                iter_array[i] = j # макс. число совпадений\n",
    "    for i in range(len(iter_array)):\n",
    "        if iter_array[i] == len(sub):\n",
    "            res.append(i-(len(sub)*2)) # *2 потому что в строке full два раза появляется sub\n",
    "    return res\n",
    "\n",
    "user_string = input(\"Введите строку: \")\n",
    "user_substring = input(\"Введите подстроку: \")\n",
    "user_letter_case = input(\"Введите 0, если важен регистр: \")\n",
    "user_letter_case = True if user_letter_case == 0 else False\n",
    "print(\"Ваша строка: \" + user_string)\n",
    "print(\"Ваша подстрока: \" + user_substring)\n",
    "time_start = time.time()\n",
    "print(pratt(user_substring, user_string, user_letter_case))\n",
    "time_stop = time.time() - time_start\n",
    "print(\"Время: {0} с\".format(time_stop))"
   ]
  },
  {
   "cell_type": "markdown",
   "metadata": {},
   "source": [
    "#### Упрощенный алгоритм Бойера-Мура"
   ]
  },
  {
   "cell_type": "code",
   "execution_count": 13,
   "metadata": {},
   "outputs": [
    {
     "output_type": "stream",
     "name": "stdout",
     "text": [
      "Ваша строка: не бойся когда ты один бойся когда ты два\nВаша подстрока: ты\n[15, 35]\nВремя: 0.0 с\n"
     ]
    }
   ],
   "source": [
    "def mour(sub, string, case):\n",
    "    if not case:\n",
    "        string = string.lower()\n",
    "    alphabet_dict = {} # Словарь\n",
    "    count = 0; res = []\n",
    "    for i in sub[::-1]: # Заполняем словарь\n",
    "        if i not in alphabet_dict:\n",
    "            alphabet_dict[i] = count\n",
    "        count += 1\n",
    "    match = len(sub)-1 # Длина подстроки (с этого индекса начинается поиск)\n",
    "    while match < len(string):\n",
    "        if sub[-1] == string[match]: # Возможно, мы попали на искомую подстроку - проверяем\n",
    "            k = True\n",
    "            for i in range(1, len(sub)):\n",
    "                if sub[-1-i] != string[match-i]:\n",
    "                    k = False\n",
    "                    break\n",
    "            if k:\n",
    "                res.append(match-len(sub)+1) # Добавляем в результат\n",
    "            match += 1\n",
    "        elif alphabet_dict.get(string[match]) is not None: # Если находится символ из словаря - прыгаем на количество шагов в словаре\n",
    "            match += alphabet_dict.get(string[match])\n",
    "        else: # Если обрабатываемого символа нет в словаре - прыгаем на длину подстроки\n",
    "            match += len(sub)\n",
    "    return res\n",
    "\n",
    "user_string = input(\"Введите строку: \")\n",
    "user_substring = input(\"Введите подстроку: \")\n",
    "user_letter_case = input(\"Введите 0, если важен регистр: \")\n",
    "user_letter_case = True if user_letter_case == 0 else False\n",
    "print(\"Ваша строка: \" + user_string)\n",
    "print(\"Ваша подстрока: \" + user_substring)\n",
    "time_start = time.time()\n",
    "print(mour(user_substring, user_string, user_letter_case))\n",
    "time_stop = time.time() - time_start\n",
    "print(\"Время: {0} с\".format(time_stop))"
   ]
  },
  {
   "cell_type": "markdown",
   "metadata": {},
   "source": [
    "### Задание 2 \"Пятнашки\""
   ]
  },
  {
   "source": [
    "#### class NodeBuilder"
   ],
   "cell_type": "markdown",
   "metadata": {}
  },
  {
   "cell_type": "code",
   "execution_count": 2,
   "metadata": {},
   "outputs": [],
   "source": [
    "class NodeBuilder:\n",
    "    def getChildNodes(self, node):\n",
    "        children = []\n",
    "        iSpace, jSpace = node.getCoordByValue(0)\n",
    "        for i in range(-1, 2):\n",
    "            for j in range(-1, 2):\n",
    "                if i * j != 0 or i == j:\n",
    "                    continue\n",
    "                iSwap, jSwap = iSpace + i, jSpace + j\n",
    "                if not (0 <= iSwap <= 3) or not (0 <= jSwap <= 3):\n",
    "                    continue\n",
    "                position = node.getPosition()\n",
    "                position[iSpace][jSpace] = position[iSwap][jSwap]\n",
    "                position[iSwap][jSwap] = 0\n",
    "                moves = node.getMoves()\n",
    "                moves.append(self._getMoveNameFromDelta(i, j))\n",
    "                child = Node(\n",
    "                    position,\n",
    "                    moves,\n",
    "                    node.getHeuristic()\n",
    "                )\n",
    "                children.append(child)\n",
    "        return children\n",
    "\n",
    "    def _getMoveNameFromDelta(self, iDelta, jDelta):\n",
    "        if iDelta == -1:\n",
    "            return 'вверх'\n",
    "        if iDelta == 1:\n",
    "            return 'вниз'\n",
    "        if jDelta == -1:\n",
    "            return 'налево'\n",
    "        if jDelta == 1:\n",
    "            return 'направо'"
   ]
  },
  {
   "source": [
    "#### class Nodepool"
   ],
   "cell_type": "markdown",
   "metadata": {}
  },
  {
   "cell_type": "code",
   "execution_count": 3,
   "metadata": {},
   "outputs": [],
   "source": [
    "class NodePool:\n",
    "\n",
    "    def __init__(self):\n",
    "        self._pool = []\n",
    "        self._history = {}\n",
    "\n",
    "    def add(self, node):\n",
    "        if str(node.getPosition()) in self._history:\n",
    "            return\n",
    "        self._history[str(node.getPosition())] = True\n",
    "        self._insort(node)\n",
    "\n",
    "    def pop(self):\n",
    "        return self._pool.pop(0)\n",
    "\n",
    "    def isEmpty(self):\n",
    "        return len(self._pool) == 0\n",
    "\n",
    "    def _insort(self, node):\n",
    "        lo = 0\n",
    "        hi = len(self._pool)\n",
    "        while lo < hi:\n",
    "            mid = (lo+hi)//2\n",
    "            if node.getFScore() < self._pool[mid].getFScore(): hi = mid\n",
    "            else: lo = mid + 1\n",
    "        self._pool.insert(lo, node)"
   ]
  },
  {
   "source": [
    "#### class AStar"
   ],
   "cell_type": "markdown",
   "metadata": {}
  },
  {
   "cell_type": "code",
   "execution_count": 4,
   "metadata": {},
   "outputs": [],
   "source": [
    "class AStar:\n",
    "\n",
    "    def __init__(self, heuristic):\n",
    "        self._nodePool = NodePool()\n",
    "        self._nodeBuilder = NodeBuilder()\n",
    "        self._heuristic = heuristic\n",
    "\n",
    "    def solve(self, position):\n",
    "        self._bootstrap(position)\n",
    "        while not self._nodePool.isEmpty():\n",
    "            currentNode = self._nodePool.pop()\n",
    "            if currentNode.getHScore() == 0:\n",
    "                return currentNode.getMoves()\n",
    "            children = self._nodeBuilder.getChildNodes(currentNode)\n",
    "            for child in children:\n",
    "                self._nodePool.add(child)\n",
    "        return None\n",
    "        \n",
    "    def _bootstrap(self, position):\n",
    "        node = Node(position, [], self._heuristic)\n",
    "        self._nodePool.add(node)"
   ]
  },
  {
   "source": [
    "#### class Node"
   ],
   "cell_type": "markdown",
   "metadata": {}
  },
  {
   "cell_type": "code",
   "execution_count": 5,
   "metadata": {},
   "outputs": [],
   "source": [
    "import copy\n",
    "class Node:\n",
    "\n",
    "    def __init__(self, position, moves, heuristic):\n",
    "        self._position = position\n",
    "        self._moves = moves\n",
    "        self._heuristic = heuristic\n",
    "        self._hScore = None\n",
    "\n",
    "    def getPosition(self):\n",
    "        return copy.deepcopy(self._position)\n",
    "\n",
    "    def getGScore(self):\n",
    "        return len(self._moves)\n",
    "\n",
    "    def getHScore(self):\n",
    "        if self._hScore is None:\n",
    "            self._hScore = self._heuristic.compute(self)\n",
    "        return self._hScore\n",
    "    \n",
    "    def getFScore(self):\n",
    "        return self.getGScore() + self.getHScore()\n",
    "\n",
    "    def getMoves(self):\n",
    "        return copy.copy(self._moves)\n",
    "\n",
    "    def getHeuristic(self):\n",
    "        return self._heuristic\n",
    "\n",
    "    def getCoordByValue(self, value):\n",
    "        i = 0\n",
    "        for row in self._position:\n",
    "            j = 0\n",
    "            for cell in row:\n",
    "                if cell == value:\n",
    "                    return [i, j]\n",
    "                j += 1\n",
    "            i += 1"
   ]
  },
  {
   "source": [
    "#### class ManhattanDistance"
   ],
   "cell_type": "markdown",
   "metadata": {}
  },
  {
   "cell_type": "code",
   "execution_count": 10,
   "metadata": {},
   "outputs": [],
   "source": [
    "class ManhattanDistance:\n",
    "    \n",
    "    def __init__(self):\n",
    "        self._goal = Node([\n",
    "            [ 1,  2,  3,  4],\n",
    "            [ 5,  6,  7,  8],\n",
    "            [ 9, 10, 11, 12],\n",
    "            [13, 14, 15,  0]\n",
    "        ], [], self)\n",
    "\n",
    "    def compute(self, node):\n",
    "        score = 0\n",
    "        for value in range(1, 16):\n",
    "            iGoal, jGoal = self._goal.getCoordByValue(value)\n",
    "            iActual, jActual = node.getCoordByValue(value)\n",
    "            score += abs(iGoal - iActual) + abs(jGoal - jActual)\n",
    "        return score"
   ]
  },
  {
   "source": [
    "#### Основной код"
   ],
   "cell_type": "markdown",
   "metadata": {}
  },
  {
   "cell_type": "code",
   "execution_count": 11,
   "metadata": {},
   "outputs": [
    {
     "output_type": "stream",
     "name": "stdout",
     "text": [
      "['вниз',\n 'вниз',\n 'вниз',\n 'направо',\n 'вверх',\n 'вверх',\n 'вверх',\n 'налево',\n 'вниз',\n 'направо',\n 'направо',\n 'вниз',\n 'направо',\n 'вниз']\nДля решения нужно будет совершить 14 ходов.\nРешено за  0.007996797561645508  секунд.\n"
     ]
    }
   ],
   "source": [
    "import time\n",
    "from pprint import pprint\n",
    "\n",
    "heuristic = ManhattanDistance()\n",
    "astar = AStar(heuristic)\n",
    "start = [\n",
    "            [ 0,  5,  3,  4],\n",
    "            [ 2, 10,  6,  8],\n",
    "            [ 1, 14,  7, 11],\n",
    "            [ 9, 13, 15, 12]\n",
    "        ]\n",
    "\n",
    "startTime = time.time()\n",
    "result = astar.solve(start)\n",
    "endTime = time.time()\n",
    "\n",
    "if result is None:\n",
    "    print('Решение не найдено')\n",
    "else:\n",
    "    pprint(result)\n",
    "    print('Для решения нужно будет совершить {0} ходов.'.format(len(result)))\n",
    "    print(\"Решено за \", endTime-startTime, \" секунд.\")"
   ]
  },
  {
   "cell_type": "code",
   "execution_count": null,
   "metadata": {},
   "outputs": [],
   "source": []
  }
 ],
 "metadata": {
  "kernelspec": {
   "name": "python391jvsc74a57bd0e159defb5f97972724bdefb208d7312f9d46c34261680fb17c6a0687d836281c",
   "display_name": "Python 3.9.1 64-bit"
  },
  "language_info": {
   "codemirror_mode": {
    "name": "ipython",
    "version": 3
   },
   "file_extension": ".py",
   "mimetype": "text/x-python",
   "name": "python",
   "nbconvert_exporter": "python",
   "pygments_lexer": "ipython3",
   "version": "3.9.1"
  },
  "metadata": {
   "interpreter": {
    "hash": "e159defb5f97972724bdefb208d7312f9d46c34261680fb17c6a0687d836281c"
   }
  }
 },
 "nbformat": 4,
 "nbformat_minor": 4
}