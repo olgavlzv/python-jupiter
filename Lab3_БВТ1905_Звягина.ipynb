{
 "cells": [
  {
   "cell_type": "markdown",
   "metadata": {},
   "source": [
    "# Лабораторная работа №3"
   ]
  },
  {
   "cell_type": "markdown",
   "metadata": {},
   "source": [
    "## Выполнила студентка группы БВТ1905 Звягина О.В."
   ]
  },
  {
   "cell_type": "markdown",
   "metadata": {},
   "source": [
    "### Задание 1"
   ]
  },
  {
   "cell_type": "code",
   "execution_count": 2,
   "metadata": {},
   "outputs": [],
   "source": [
    "import random\n",
    "import time"
   ]
  },
  {
   "cell_type": "markdown",
   "metadata": {},
   "source": [
    "#### Стандартный алгоритм поиска подстроки в Python"
   ]
  },
  {
   "cell_type": "code",
   "execution_count": 11,
   "metadata": {},
   "outputs": [
    {
     "output_type": "stream",
     "name": "stdout",
     "text": [
      "[15, 35]\nTime: 0.0009961128234863281 s\n"
     ]
    }
   ],
   "source": [
    "def standart(sub, string, case):\n",
    "    res = []\n",
    "    if not case:\n",
    "        string = string.lower() # Приведение текста к нижнему регистру\n",
    "    srez = '' # Для отсечки проверенной части строки\n",
    "    while string.find(sub) != -1:\n",
    "        a = string.find(sub)\n",
    "        res.append(a)\n",
    "        for i in range(a+1):\n",
    "            srez += chr(501)\n",
    "        string = srez + string[a+1:]\n",
    "    return res\n",
    "\n",
    "user_string = input(\"Введите строку: \")\n",
    "user_substring = input(\"Введите подстроку: \")\n",
    "user_letter_case = input(\"Введите 0, если важен регистр: \")\n",
    "user_letter_case = True if user_letter_case == 0 else False\n",
    "print(\"Ваша строка: \" + user_string)\n",
    "print(\"Ваша подстрока: \" + user_substring)\n",
    "time_start = time.time()\n",
    "print(standart(user_substring, user_string, user_letter_case))\n",
    "time_stop = time.time() - time_start\n",
    "print(\"Time: {0} s\".format(time_stop))"
   ]
  },
  {
   "cell_type": "markdown",
   "metadata": {},
   "source": [
    "#### Алгоритм Кнута-Морриса-Пратта"
   ]
  },
  {
   "cell_type": "code",
   "execution_count": 8,
   "metadata": {},
   "outputs": [
    {
     "output_type": "stream",
     "name": "stdout",
     "text": [
      "Ваша строка: не бойся когда ты один бойся когда ты два\nВаша подстрока: ты\n[15, 35]\nВремя: 0.0010077953338623047 с\n"
     ]
    }
   ],
   "source": [
    "def reversed(str):  # Для реверса строки\n",
    "    return str[::-1]\n",
    "\n",
    "\n",
    "def pratt(sub, string, case):\n",
    "    res = []\n",
    "    if not case:\n",
    "        string = string.lower()  # Приводим все буквы к нижнему регистру, если надо\n",
    "    while True:\n",
    "        symbol = chr(random.randint(0, 512))  # Ищем рандомный символ, которого нет в строке и подстроке\n",
    "        if symbol not in sub + string:\n",
    "            break\n",
    "    full = sub + symbol + string\n",
    "    iter_array = [0] * len(full)  # Делаем список с числом \"повторений\" префиксов, заполняем нулями\n",
    "    for i in range(1, len(full)):\n",
    "        search = full[0:i] # от 0 до i\n",
    "        reverse = full[i::-1] # от i до 0\n",
    "        for j in range(1, len(search)):\n",
    "            if search[0:j] == reversed(reverse[0:j]):\n",
    "                iter_array[i] = j # макс. число совпадений\n",
    "    for i in range(len(iter_array)):\n",
    "        if iter_array[i] == len(sub):\n",
    "            res.append(i-(len(sub)*2)) # *2 потому что в строке full два раза появляется sub\n",
    "    return res\n",
    "\n",
    "user_string = input(\"Введите строку: \")\n",
    "user_substring = input(\"Введите подстроку: \")\n",
    "user_letter_case = input(\"Введите 0, если важен регистр: \")\n",
    "user_letter_case = True if user_letter_case == 0 else False\n",
    "print(\"Ваша строка: \" + user_string)\n",
    "print(\"Ваша подстрока: \" + user_substring)\n",
    "time_start = time.time()\n",
    "print(pratt(user_substring, user_string, user_letter_case))\n",
    "time_stop = time.time() - time_start\n",
    "print(\"Время: {0} с\".format(time_stop))"
   ]
  },
  {
   "cell_type": "markdown",
   "metadata": {},
   "source": [
    "#### Упрощенный алгоритм Бойера-Мура"
   ]
  },
  {
   "cell_type": "code",
   "execution_count": 5,
   "metadata": {},
   "outputs": [
    {
     "output_type": "stream",
     "name": "stdout",
     "text": [
      "Ваша строка: не бойся когда ты один бойся когда ты два\nВаша подстрока: ты\n[15, 35]\nВремя: 0.0 с\n"
     ]
    }
   ],
   "source": [
    "def mour(sub, string, case):\n",
    "    if not case:\n",
    "        string = string.lower()\n",
    "    alphabet_dict = {} # Словарь\n",
    "    count = 0; res = []\n",
    "    for i in sub[::-1]: # Заполняем словарь\n",
    "        if i not in alphabet_dict:\n",
    "            alphabet_dict[i] = count\n",
    "        count += 1\n",
    "    match = len(sub)-1 # Длина подстроки (с этого индекса начинается поиск)\n",
    "    while match < len(string):\n",
    "        if sub[-1] == string[match]: # Возможно, мы попали на искомую подстроку - проверяем\n",
    "            k = True\n",
    "            for i in range(1, len(sub)):\n",
    "                if sub[-1-i] != string[match-i]:\n",
    "                    k = False\n",
    "                    break\n",
    "            if k:\n",
    "                res.append(match-len(sub)+1) # Добавляем в результат\n",
    "            match += 1\n",
    "        elif alphabet_dict.get(string[match]) is not None: # Если находится символ из словаря - прыгаем на количество шагов в словаре\n",
    "            match += alphabet_dict.get(string[match])\n",
    "        else: # Если обрабатываемого символа нет в словаре - прыгаем на длину подстроки\n",
    "            match += len(sub)\n",
    "    return res\n",
    "\n",
    "user_string = input(\"Введите строку: \")\n",
    "user_substring = input(\"Введите подстроку: \")\n",
    "user_letter_case = input(\"Введите 0, если важен регистр: \")\n",
    "user_letter_case = True if user_letter_case == 0 else False\n",
    "print(\"Ваша строка: \" + user_string)\n",
    "print(\"Ваша подстрока: \" + user_substring)\n",
    "time_start = time.time()\n",
    "print(mour(user_substring, user_string, user_letter_case))\n",
    "time_stop = time.time() - time_start\n",
    "print(\"Время: {0} с\".format(time_stop))"
   ]
  },
  {
   "cell_type": "markdown",
   "metadata": {},
   "source": [
    "### Задание 2 \"Пятнашки\""
   ]
  },
  {
   "cell_type": "code",
   "execution_count": null,
   "metadata": {},
   "outputs": [],
   "source": []
  }
 ],
 "metadata": {
  "kernelspec": {
   "name": "python391jvsc74a57bd0e159defb5f97972724bdefb208d7312f9d46c34261680fb17c6a0687d836281c",
   "display_name": "Python 3.9.1 64-bit"
  },
  "language_info": {
   "codemirror_mode": {
    "name": "ipython",
    "version": 3
   },
   "file_extension": ".py",
   "mimetype": "text/x-python",
   "name": "python",
   "nbconvert_exporter": "python",
   "pygments_lexer": "ipython3",
   "version": "3.9.1"
  },
  "metadata": {
   "interpreter": {
    "hash": "e159defb5f97972724bdefb208d7312f9d46c34261680fb17c6a0687d836281c"
   }
  }
 },
 "nbformat": 4,
 "nbformat_minor": 4
}