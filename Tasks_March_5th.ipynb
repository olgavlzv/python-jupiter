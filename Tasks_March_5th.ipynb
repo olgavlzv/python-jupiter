{
 "cells": [
  {
   "cell_type": "markdown",
   "metadata": {},
   "source": [
    "# Задачи на 5 марта"
   ]
  },
  {
   "cell_type": "markdown",
   "metadata": {},
   "source": [
    "### Задача 1"
   ]
  },
  {
   "cell_type": "code",
   "execution_count": 3,
   "metadata": {},
   "outputs": [
    {
     "name": "stdout",
     "output_type": "stream",
     "text": [
      "10\n",
      "add j\n",
      "add f\n",
      "vote j\n",
      "vote f\n",
      "add k\n",
      "vote k\n",
      "add y\n",
      "vote y\n",
      "add k\n",
      "vote k\n",
      "Yes\n"
     ]
    }
   ],
   "source": [
    "array_add = [0] * 26\n",
    "array_vote = [0] * 26\n",
    "k = int(input())\n",
    "for i in range(k):\n",
    "    n = input().lower()\n",
    "    if \"add\" in n:\n",
    "        array_add[ord(n[4]) - 97] += 1\n",
    "    if \"vote\" in n:\n",
    "        array_vote[ord(n[5]) - 97] += 1\n",
    "if array_add == array_vote:\n",
    "    print(\"Yes\")\n",
    "else:\n",
    "    print(\"No\")"
   ]
  },
  {
   "cell_type": "markdown",
   "metadata": {},
   "source": [
    "### Задача 2"
   ]
  },
  {
   "cell_type": "code",
   "execution_count": null,
   "metadata": {},
   "outputs": [],
   "source": [
    "n = int(input())\n",
    "flag = True\n",
    "i = 2\n",
    "if n % 3 == 0:\n",
    "    print(\"3\")\n",
    "elif n % 4 == 0:\n",
    "    print(\"4\")\n",
    "elif n % 2 == 0:\n",
    "    while i * i <= n:\n",
    "        if n % i == 0 and i % 2 != 0:\n",
    "            print(i)\n",
    "            flag = False\n",
    "            break\n",
    "        i += 1\n",
    "    if flag:\n",
    "        print(\"{0}\".format(n // 2))\n",
    "else:\n",
    "    while i * i <= n:\n",
    "        if n % i == 0:\n",
    "            print(i)\n",
    "            flag = False\n",
    "            break\n",
    "        i += 1\n",
    "    if flag:\n",
    "        print(n)"
   ]
  },
  {
   "cell_type": "markdown",
   "metadata": {},
   "source": [
    "### Задача 3"
   ]
  },
  {
   "cell_type": "code",
   "execution_count": null,
   "metadata": {},
   "outputs": [],
   "source": [
    "inp = input()\n",
    "ans = []\n",
    "for i in range(2,37):\n",
    "    try:\n",
    "        for k in range(2,int(inp, i)):\n",
    "            if (int(inp, i) % k == 0):\n",
    "                ans.append(\"{0} {1}\".format(i,k))\n",
    "    except Exception:\n",
    "        err = 1\n",
    "            \n",
    "if (not ans):\n",
    "    ans.append(-1)\n",
    "    \n",
    "print(ans)"
   ]
  }
 ],
 "metadata": {
  "kernelspec": {
   "display_name": "Python 3",
   "language": "python",
   "name": "python3"
  },
  "language_info": {
   "codemirror_mode": {
    "name": "ipython",
    "version": 3
   },
   "file_extension": ".py",
   "mimetype": "text/x-python",
   "name": "python",
   "nbconvert_exporter": "python",
   "pygments_lexer": "ipython3",
   "version": "3.8.5"
  }
 },
 "nbformat": 4,
 "nbformat_minor": 4
}