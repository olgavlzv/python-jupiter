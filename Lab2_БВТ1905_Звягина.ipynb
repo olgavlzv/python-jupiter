{
 "cells": [
  {
   "cell_type": "markdown",
   "metadata": {},
   "source": [
    "# Лабораторная работа №2"
   ]
  },
  {
   "cell_type": "markdown",
   "metadata": {},
   "source": [
    "## Выполнила студентка группы БВТ1905 Звягина О.В."
   ]
  },
  {
   "cell_type": "markdown",
   "metadata": {},
   "source": [
    "### Задание 1"
   ]
  },
  {
   "cell_type": "code",
   "execution_count": 2,
   "metadata": {},
   "outputs": [],
   "source": [
    "import random\n",
    "import time"
   ]
  },
  {
   "cell_type": "markdown",
   "metadata": {},
   "source": [
    "#### Генерация списка"
   ]
  },
  {
   "cell_type": "code",
   "execution_count": 3,
   "metadata": {},
   "outputs": [
    {
     "output_type": "stream",
     "name": "stdout",
     "text": [
      "Пожалуйста, введите данные для генерации\n",
      "[8, 809, 177, 877, 381, 500, 589, 363, 506, 604, 742, 449, 577, 999, 34, 795, 645, 198, 998, 458, 941, 228, 21, 53, 105, 33, 785, 913, 833, 925, 613, 819, 523, 817, 707, 354, 205, 854, 374, 888, 126, 46, 312, 254, 404, 117, 512, 548, 855, 868, 114, 531, 963, 147, 246, 781, 402, 744, 316, 389, 657, 906, 590, 659, 698, 750, 31, 774, 485, 415, 893, 996, 999, 914, 554, 85, 571, 259, 919, 710, 962, 934, 999, 972, 211, 707, 749, 413, 97, 87, 54, 48, 501, 28, 367, 275, 87, 450, 536, 172]\n"
     ]
    }
   ],
   "source": [
    "def gen_list():\n",
    "    print(\"Пожалуйста, введите данные для генерации\")\n",
    "    n = int(input(\"Количество элементов: \"))\n",
    "    min_limit = int(input(\"Минимальный элемент: \"))\n",
    "    max_limit = int(input(\"Максимальный элемент: \"))\n",
    "\n",
    "    arr = []\n",
    "    for i in range(n):\n",
    "        arr.append(random.randint(min_limit, max_limit))\n",
    "    return arr\n",
    "\n",
    "arr = gen_list()\n",
    "print(arr)"
   ]
  },
  {
   "cell_type": "markdown",
   "metadata": {},
   "source": [
    "#### Добавление элемента"
   ]
  },
  {
   "cell_type": "code",
   "execution_count": 4,
   "metadata": {},
   "outputs": [
    {
     "output_type": "stream",
     "name": "stdout",
     "text": [
      "[0, 8, 21, 28, 31, 33, 34, 46, 48, 53, 54, 85, 87, 87, 97, 105, 114, 117, 126, 147, 172, 177, 198, 205, 211, 228, 246, 254, 259, 275, 312, 316, 354, 363, 367, 374, 381, 389, 402, 404, 413, 415, 449, 450, 458, 485, 500, 501, 506, 512, 523, 531, 536, 548, 554, 571, 577, 589, 590, 604, 613, 645, 657, 659, 698, 707, 707, 710, 742, 744, 749, 750, 774, 781, 785, 795, 809, 817, 819, 833, 854, 855, 868, 877, 888, 893, 906, 913, 914, 919, 925, 934, 941, 962, 963, 972, 996, 998, 999, 999, 999]\n"
     ]
    }
   ],
   "source": [
    "def add_element(arr):\n",
    "    arr.append(int(input()))\n",
    "    arr.sort()\n",
    "    return arr\n",
    "\n",
    "arr = add_element(arr)\n",
    "print(arr)"
   ]
  },
  {
   "cell_type": "markdown",
   "metadata": {},
   "source": [
    "#### Удаление элемента"
   ]
  },
  {
   "cell_type": "code",
   "execution_count": 5,
   "metadata": {},
   "outputs": [
    {
     "output_type": "stream",
     "name": "stdout",
     "text": [
      "Элемент 0 удалён.\n[8, 21, 28, 31, 33, 34, 46, 48, 53, 54, 85, 87, 87, 97, 105, 114, 117, 126, 147, 172, 177, 198, 205, 211, 228, 246, 254, 259, 275, 312, 316, 354, 363, 367, 374, 381, 389, 402, 404, 413, 415, 449, 450, 458, 485, 500, 501, 506, 512, 523, 531, 536, 548, 554, 571, 577, 589, 590, 604, 613, 645, 657, 659, 698, 707, 707, 710, 742, 744, 749, 750, 774, 781, 785, 795, 809, 817, 819, 833, 854, 855, 868, 877, 888, 893, 906, 913, 914, 919, 925, 934, 941, 962, 963, 972, 996, 998, 999, 999, 999]\n"
     ]
    }
   ],
   "source": [
    "def del_element(arr):\n",
    "    k = int(input(\"Значение для удаления: \"))\n",
    "    if k in arr:\n",
    "        arr.remove(k)\n",
    "        print(\"Элемент \" + str(k) + \" удалён.\")\n",
    "    else:\n",
    "        print(\"Элемента \" + str(k) + \" нет в списке.\")\n",
    "    #return arr\n",
    "\n",
    "del_element(arr)\n",
    "print(arr)"
   ]
  },
  {
   "cell_type": "markdown",
   "metadata": {},
   "source": [
    "#### Бинарный поиск"
   ]
  },
  {
   "cell_type": "code",
   "execution_count": 6,
   "metadata": {},
   "outputs": [],
   "source": [
    "def binary_search(array, key):\n",
    "    lower_bound = 0\n",
    "    upper_bound = len(array) - 1\n",
    "\n",
    "    while lower_bound <= upper_bound:\n",
    "        center = (lower_bound + upper_bound) // 2\n",
    "        \n",
    "        if array[center] > key:\n",
    "            upper_bound = center - 1\n",
    "        elif array[center] < key:\n",
    "            lower_bound = center + 1\n",
    "        else:\n",
    "            return center\n",
    "\n",
    "    return -1\n"
   ]
  },
  {
   "cell_type": "markdown",
   "metadata": {},
   "source": [
    "#### Бинарное дерево"
   ]
  },
  {
   "cell_type": "code",
   "execution_count": 7,
   "metadata": {},
   "outputs": [],
   "source": [
    "class Node:\n",
    "    def __init__(self, value):\n",
    "        self.value = value\n",
    "        self.left = self.right = None\n",
    "\n",
    "class BinaryTree:\n",
    "    def __init__(self):\n",
    "        self.root = None\n",
    "        self.all = [] # список для удаления элементов\n",
    "\n",
    "    def add(self, value):\n",
    "        if self.root is None:\n",
    "            self.root = Node(value)\n",
    "            self.all.append(value)\n",
    "        else:\n",
    "            self._add(value, self.root)\n",
    "\n",
    "    def _add(self, value, node):\n",
    "        if value < node.value:\n",
    "            if node.left is not None:\n",
    "                self._add(value, node.left)\n",
    "            else:\n",
    "                node.left = Node(value)\n",
    "                self.all.append(value)\n",
    "        elif value > node.value:\n",
    "            if node.right is not None:\n",
    "                self._add(value, node.right)\n",
    "            else:\n",
    "                node.right = Node(value)\n",
    "                self.all.append(value)\n",
    "        else:\n",
    "            print(\"Значение уже есть в дереве\")\n",
    "\n",
    "    def find(self, value):\n",
    "        depth = 0\n",
    "        if self.root is not None:\n",
    "            depth += 1\n",
    "            return self._find(value, self.root, depth)\n",
    "        else:\n",
    "            return None\n",
    "\n",
    "    def _find(self, value, node, depth):\n",
    "        if value == node.value:\n",
    "            return depth\n",
    "        elif (value < node.value and node.left is not None):\n",
    "            depth += 1\n",
    "            return self._find(value, node.left, depth)\n",
    "        elif (value > node.value and node.right is not None):\n",
    "            depth += 1\n",
    "            return self._find(value, node.right, depth)\n",
    "        return None\n",
    "\n",
    "    def delete(self, value):\n",
    "        global tree\n",
    "        self.all.remove(value)\n",
    "        new_tree = BinaryTree()\n",
    "        for to_new in self.all:\n",
    "            new_tree.add(to_new)\n",
    "        tree = new_tree\n",
    "\n",
    "tree = BinaryTree()"
   ]
  },
  {
   "cell_type": "markdown",
   "metadata": {},
   "source": [
    "### Сгенерировать дерево"
   ]
  },
  {
   "cell_type": "code",
   "execution_count": 8,
   "metadata": {},
   "outputs": [
    {
     "output_type": "stream",
     "name": "stdout",
     "text": [
      "Пожалуйста, введите данные для генерации дерева\n",
      "Значение уже есть в дереве\n",
      "Дерево из 100 элементов от 0 до 1000 было создано\n"
     ]
    }
   ],
   "source": [
    "print(\"Пожалуйста, введите данные для генерации дерева\")\n",
    "n = int(input(\"Количество элементов: \"))\n",
    "min_limit = int(input(\"Минимальный элемент: \"))\n",
    "max_limit = int(input(\"Максимальный элемент: \"))\n",
    "\n",
    "for i in range(n):\n",
    "    tree.add(random.randint(min_limit, max_limit))\n",
    "print(\"Дерево из {0} элементов от {1} до {2} было создано\".format(str(n), str(min_limit), str(max_limit)))"
   ]
  },
  {
   "cell_type": "markdown",
   "metadata": {},
   "source": [
    "#### Вставить элемент в дерево"
   ]
  },
  {
   "cell_type": "code",
   "execution_count": 9,
   "metadata": {},
   "outputs": [
    {
     "output_type": "stream",
     "name": "stdout",
     "text": [
      "Значение уже есть в дереве\nЭлемент 42 был добавлен в дерево\n"
     ]
    }
   ],
   "source": [
    "added_num = int(input(\"Элемент для добавления: \"))\n",
    "\n",
    "tree.add(added_num)\n",
    "print(\"Элемент {0} был добавлен в дерево\".format(str(added_num)))"
   ]
  },
  {
   "cell_type": "markdown",
   "metadata": {},
   "source": [
    "#### Удалить элемент из дерева"
   ]
  },
  {
   "cell_type": "code",
   "execution_count": 11,
   "metadata": {},
   "outputs": [
    {
     "output_type": "stream",
     "name": "stdout",
     "text": [
      "Элемент 42 был удален из дерева\n"
     ]
    }
   ],
   "source": [
    "deleted_num = int(input(\"Элемент для удаления: \"))\n",
    "tree.delete(deleted_num)\n",
    "print(\"Элемент {0} был удален из дерева\".format(str(deleted_num)))"
   ]
  },
  {
   "cell_type": "markdown",
   "metadata": {},
   "source": [
    "#### Поиск элемента в дереве"
   ]
  },
  {
   "cell_type": "code",
   "execution_count": 12,
   "metadata": {},
   "outputs": [
    {
     "output_type": "stream",
     "name": "stdout",
     "text": [
      "Элемента 0 нет в дереве\n"
     ]
    }
   ],
   "source": [
    "value = int(input(\"Элемент для поиска в дереве: \"))\n",
    "found_num = tree.find(value)\n",
    "\n",
    "if found_num is None:\n",
    "    print(\"Элемента {0} нет в дереве\".format(str(value)))\n",
    "else:\n",
    "    print(\"Элемент {0} находится в {1} узле\".format(str(value), str(found_num)))"
   ]
  },
  {
   "cell_type": "markdown",
   "metadata": {},
   "source": [
    "#### Фибоначчиев поиск"
   ]
  },
  {
   "cell_type": "code",
   "execution_count": 13,
   "metadata": {},
   "outputs": [],
   "source": [
    "def fibonacci_search(array, key):\n",
    "    num_fib_m2 = 0\n",
    "    num_fib_m1 = 1\n",
    "    num_fib = num_fib_m1 + num_fib_m2\n",
    "    while num_fib < len(array):\n",
    "        num_fib_m2 = num_fib_m1\n",
    "        num_fib_m1 = num_fib\n",
    "        num_fib = num_fib_m1 + num_fib_m2\n",
    "    index = -1\n",
    "    while num_fib > 1:\n",
    "        i = min(index + num_fib_m2, (len(array) - 1))\n",
    "        if (array[i] < key):\n",
    "            num_fib = num_fib_m1\n",
    "            num_fib_m1 = num_fib_m2\n",
    "            num_fib_m2 = num_fib - num_fib_m1\n",
    "            index = i\n",
    "        elif (array[i] > key):\n",
    "            num_fib = num_fib_m2\n",
    "            num_fib_m1 = num_fib_m1 - num_fib_m2\n",
    "            num_fib_m2 = num_fib - num_fib_m1\n",
    "        else:\n",
    "            return i\n",
    "    if num_fib_m1 and index < len(array) - 1 and array[index + 1] == key:\n",
    "        return index + 1\n",
    "    return -1"
   ]
  },
  {
   "cell_type": "markdown",
   "metadata": {},
   "source": [
    "#### Интерполяционный поиск"
   ]
  },
  {
   "cell_type": "code",
   "execution_count": 14,
   "metadata": {},
   "outputs": [],
   "source": [
    "def interpol_search(array, key):\n",
    "    lower_bound = 0\n",
    "    upper_bound = len(array) - 1\n",
    "    while lower_bound <= upper_bound and key >= array[lower_bound] and key <= array[upper_bound]:\n",
    "        index = lower_bound + int(((float(upper_bound - lower_bound) / (array[upper_bound] - array[lower_bound])) * (key - array[lower_bound])))\n",
    "        if array[index] == key:\n",
    "            return index\n",
    "        if array[index] < key:\n",
    "            lower_bound = index + 1\n",
    "        else:\n",
    "            upper_bound = index - 1\n",
    "    return -1"
   ]
  },
  {
   "cell_type": "markdown",
   "metadata": {},
   "source": [
    "#### Время работы бинарного поиска"
   ]
  },
  {
   "cell_type": "code",
   "execution_count": 15,
   "metadata": {},
   "outputs": [
    {
     "output_type": "stream",
     "name": "stdout",
     "text": [
      "Введите значение для поиска\n",
      "0\n",
      "Элемент 0 не был найден\n",
      "Время: 0.0 с\n"
     ]
    }
   ],
   "source": [
    "print(\"Введите значение для поиска\")\n",
    "value = int(input())\n",
    "print(value)\n",
    "\n",
    "time_start = time.time()\n",
    "find_key = binary_search(arr, value)\n",
    "time_stop = time.time() - time_start\n",
    "if find_key == -1:\n",
    "    print(\"Элемент {0} не был найден\".format(str(value)))\n",
    "elif find_key > -1:\n",
    "    print(\"Элемент {0} был найден на позиции {1}\".format(str(value), str(find_key)))\n",
    "print(\"Время: {0} с\".format(time_stop))"
   ]
  },
  {
   "cell_type": "markdown",
   "metadata": {},
   "source": [
    "#### Время работы бинарного дерева"
   ]
  },
  {
   "cell_type": "code",
   "execution_count": 16,
   "metadata": {},
   "outputs": [
    {
     "output_type": "stream",
     "name": "stdout",
     "text": [
      "Введите значение для поиска\n",
      "15\n",
      "Элемент 15 не был найден\n",
      "Время: 0.0 с\n"
     ]
    }
   ],
   "source": [
    "print(\"Введите значение для поиска\")\n",
    "value = int(input())\n",
    "print(value)\n",
    "\n",
    "time_start = time.time()\n",
    "found_num = tree.find(value)\n",
    "time_stop = time.time() - time_start\n",
    "if found_num is None:\n",
    "    print(\"Элемент {0} не был найден\".format(str(value)))\n",
    "else:\n",
    "    print(\"Элемент {0} был найден в узле {1}\".format(str(value), str(found_num)))\n",
    "print(\"Время: {0} с\".format(time_stop))"
   ]
  },
  {
   "cell_type": "markdown",
   "metadata": {},
   "source": [
    "#### Время работы фибоначчиева поиска "
   ]
  },
  {
   "cell_type": "code",
   "execution_count": 17,
   "metadata": {},
   "outputs": [
    {
     "output_type": "stream",
     "name": "stdout",
     "text": [
      "Элемент 15 не был найден\nВремя: 0.0 с\n"
     ]
    }
   ],
   "source": [
    "time_start = time.time()\n",
    "find_key = fibonacci_search(arr, value)\n",
    "time_stop = time.time() - time_start\n",
    "if find_key == -1:\n",
    "    print(\"Элемент {0} не был найден\".format(str(value)))\n",
    "elif find_key > -1:\n",
    "    print(\"Элемент {0} был найден на позиции {1}\".format(str(value), str(find_key)))\n",
    "print(\"Время: {0} с\".format(time_stop))"
   ]
  },
  {
   "cell_type": "markdown",
   "metadata": {},
   "source": [
    "#### Время работы интерполяционного поиска"
   ]
  },
  {
   "cell_type": "code",
   "execution_count": 19,
   "metadata": {},
   "outputs": [
    {
     "output_type": "stream",
     "name": "stdout",
     "text": [
      "Элемент 15 не был найден\nВремя: 0.0 с\n"
     ]
    }
   ],
   "source": [
    "time_start = time.time()\n",
    "find_key = interpol_search(arr, value)\n",
    "time_stop = time.time() - time_start\n",
    "if find_key == -1:\n",
    "    print(\"Элемент {0} не был найден\".format(str(value)))\n",
    "elif find_key > -1:\n",
    "    print(\"Элемент {0} был найден на позиции {1}\".format(str(value), str(find_key)))\n",
    "print(\"Время: {0} с\".format(time_stop))"
   ]
  },
  {
   "cell_type": "markdown",
   "metadata": {},
   "source": [
    "### Задание 2"
   ]
  },
  {
   "cell_type": "markdown",
   "metadata": {},
   "source": [
    "#### Простое рехэширование"
   ]
  },
  {
   "cell_type": "code",
   "execution_count": 49,
   "metadata": {},
   "outputs": [],
   "source": [
    "class Re_hash:\n",
    "    def __init__(self):\n",
    "        self.table = {}  \n",
    "\n",
    "\n",
    "    def insert(self, value):\n",
    "        hash_fun = value % 14\n",
    "        while True:\n",
    "            if hash_fun in self.table.keys():\n",
    "                hash_fun += 1\n",
    "            else:\n",
    "                self.table[hash_fun] = value\n",
    "                return hash_fun\n",
    "    \n",
    "\n",
    "    def search(self, value):\n",
    "        hash_fun = value % 14\n",
    "        if hash_fun in self.table.keys():\n",
    "            while True:\n",
    "                count = 0\n",
    "                for i in self.table.items():\n",
    "                    count += 1\n",
    "                    if i[0] == hash_fun:\n",
    "                        if i[1] == value:\n",
    "                            return count\n",
    "                        else:\n",
    "                            hash_fun += 1\n",
    "                return -1\n",
    "        else:\n",
    "            return -1\n",
    "    \n",
    "\n",
    "    def delete(self, value):\n",
    "        hash_fun = start_hash = value % 14\n",
    "        while True:\n",
    "            if hash_fun in self.table.keys():            \n",
    "                if self.table[hash_fun] == value:\n",
    "                    self.table.pop(hash_fun)\n",
    "                    print(\"Элемент \" + str(value) + \" был удален из списка\")\n",
    "                    down_to_hash = hash_fun\n",
    "                    while True:\n",
    "                        hash_fun += 1\n",
    "                        if hash_fun in self.table.keys():\n",
    "                            if self.table[hash_fun] % 14 == start_hash:\n",
    "                                self.table[down_to_hash] = self.table[hash_fun]\n",
    "                                down_to_hash = hash_fun\n",
    "                                self.table.pop(hash_fun)\n",
    "                        else:\n",
    "                            break\n",
    "                    break\n",
    "                else:\n",
    "                    hash_fun += 1\n",
    "            else:\n",
    "                print(\"Элемента \" + str(value) + \" нет в списке!\")\n",
    "                break\n",
    "\n",
    "\n",
    "    def show(self):\n",
    "        for_pr = \"\"\n",
    "        for i in self.table.items():\n",
    "            for_pr += str(i[1]) + \" \"\n",
    "        return for_pr.strip()\n",
    "\n",
    "\n",
    "re_hash = Re_hash()"
   ]
  },
  {
   "cell_type": "markdown",
   "metadata": {},
   "source": [
    "#### Сгенерировать значения"
   ]
  },
  {
   "cell_type": "code",
   "execution_count": 53,
   "metadata": {},
   "outputs": [
    {
     "output_type": "stream",
     "name": "stdout",
     "text": [
      "Список из 20 элементов от 0 до 1000 был создан\n"
     ]
    },
    {
     "output_type": "execute_result",
     "data": {
      "text/plain": [
       "'293 728 103 414 622 38 746 696 939 645 116 332 768 46 541 858 380 227 555 503'"
      ]
     },
     "metadata": {},
     "execution_count": 53
    }
   ],
   "source": [
    "def generate_to_re_hash(to_re_hash, min_value, max_value, num_value):\n",
    "    for i in range(num_value):\n",
    "        to_re_hash.insert(random.randint(min_value, max_value))\n",
    "\n",
    "\n",
    "user_min = int(input(\"Введите минимальное значение:\"))\n",
    "user_max = int(input(\"Введите максимальное значение: \"))\n",
    "user_num = int(input(\"Введите количество значений: \"))\n",
    "re_hash = Re_hash()\n",
    "generate_to_re_hash(re_hash, user_min, user_max, user_num)\n",
    "print(\"Список из \" + str(user_num) + \" элементов от \" + str(user_min) + \" до \" + str(user_max) + \" был создан\")\n",
    "re_hash.show()"
   ]
  },
  {
   "cell_type": "markdown",
   "metadata": {},
   "source": [
    "#### Добавить значение"
   ]
  },
  {
   "cell_type": "code",
   "execution_count": 56,
   "metadata": {},
   "outputs": [
    {
     "output_type": "stream",
     "name": "stdout",
     "text": [
      "Элемент 503 был добавлен в список\n"
     ]
    },
    {
     "output_type": "execute_result",
     "data": {
      "text/plain": [
       "'293 728 103 414 622 38 746 696 939 645 116 332 768 46 541 858 380 227 555 503 503'"
      ]
     },
     "metadata": {},
     "execution_count": 56
    }
   ],
   "source": [
    "user_add = int(input())\n",
    "re_hash.insert(user_add)\n",
    "print(\"Элемент \" + str(user_add) + \" был добавлен в список\")\n",
    "re_hash.show() "
   ]
  },
  {
   "cell_type": "markdown",
   "metadata": {},
   "source": [
    "#### Удалить значение"
   ]
  },
  {
   "cell_type": "code",
   "execution_count": 55,
   "metadata": {},
   "outputs": [
    {
     "output_type": "stream",
     "name": "stdout",
     "text": [
      "Element 42 was removed from list\nNone\n"
     ]
    },
    {
     "output_type": "execute_result",
     "data": {
      "text/plain": [
       "'293 728 103 414 622 38 746 696 939 645 116 332 768 46 541 858 380 227 555 503'"
      ]
     },
     "metadata": {},
     "execution_count": 55
    }
   ],
   "source": [
    "user_delete = int(input())\n",
    "print(re_hash.delete(user_delete))\n",
    "re_hash.show()"
   ]
  },
  {
   "cell_type": "markdown",
   "metadata": {},
   "source": [
    "#### Поиск элемента (Простое рехэширование)"
   ]
  },
  {
   "cell_type": "code",
   "execution_count": 58,
   "metadata": {},
   "outputs": [
    {
     "output_type": "stream",
     "name": "stdout",
     "text": [
      "Элемент 503 был найден на 20 месте\nВремя: 0.0 с\n"
     ]
    }
   ],
   "source": [
    "user_re_hash = int(input())\n",
    "time_start = time.time()\n",
    "finded_re_hash = re_hash.search(user_re_hash)\n",
    "time_stop = time.time() - time_start\n",
    "if finded_re_hash == -1:\n",
    "    print(\"Элемент {0} не был найден\".format(str(user_re_hash)))\n",
    "else:\n",
    "    print(\"Элемент {0} был найден на {1} месте\".format(str(user_re_hash), str(finded_re_hash)))\n",
    "print(\"Время: {0} с\".format(time_stop))"
   ]
  },
  {
   "cell_type": "markdown",
   "metadata": {},
   "source": [
    "#### Рехэширование с помощью псевдослучайных чисел"
   ]
  },
  {
   "cell_type": "code",
   "execution_count": 65,
   "metadata": {},
   "outputs": [],
   "source": [
    "class Random_hash:\n",
    "    def __init__(self):\n",
    "        self.table = {}\n",
    "        self.rand = [1, 2, 3, 4, 5, 6, 7, 8, 9, 10, 11, 12, 13]\n",
    "        random.shuffle(self.rand)\n",
    "\n",
    "\n",
    "    def insert(self, value):\n",
    "        hash_fun = value % 14\n",
    "        while True:\n",
    "            count = 0\n",
    "            if hash_fun in self.table.keys():\n",
    "                hash_fun += self.rand[count % len(self.rand)]\n",
    "            else:\n",
    "                self.table[hash_fun] = value\n",
    "                return hash_fun\n",
    "    \n",
    "\n",
    "    def search(self, value):\n",
    "        hash_fun = value % 14\n",
    "        if hash_fun in self.table.keys():\n",
    "            return self._search(hash_fun, value)\n",
    "        else:\n",
    "            return -1\n",
    "    \n",
    "\n",
    "    def _search(self, hash_fun, value):\n",
    "        rand_count = count = 0\n",
    "        for i in self.table.items():\n",
    "            count += 1\n",
    "            if i[0] == hash_fun:\n",
    "                if i[1] == value:\n",
    "                    return count\n",
    "                else:\n",
    "                    hash_fun += self.rand[rand_count % len(self.rand)]\n",
    "                    if hash_fun in self.table.keys():\n",
    "                        return self._search(hash_fun, value)\n",
    "                    else:\n",
    "                        return -1\n",
    "    \n",
    "\n",
    "    def delete(self, value):\n",
    "        hash_fun = start_hash = value % 14\n",
    "        while True:\n",
    "            count = 0\n",
    "            if hash_fun in self.table.keys():            \n",
    "                if self.table[hash_fun] == value:\n",
    "                    self.table.pop(hash_fun)\n",
    "                    print(\"Элемент \" + str(value) + \" был удален из списка\")\n",
    "                    down_to_hash = hash_fun\n",
    "                    i = 0\n",
    "                    while True:\n",
    "                        hash_fun += self.rand[i]\n",
    "                        if hash_fun in self.table.keys():\n",
    "                            if self.table[hash_fun] % 14 == start_hash:\n",
    "                                self.table[down_to_hash] = self.table[hash_fun]\n",
    "                                down_to_hash = hash_fun\n",
    "                                self.table.pop(hash_fun)\n",
    "                            i += 1\n",
    "                        else:\n",
    "                            break\n",
    "                    break\n",
    "                else:\n",
    "                    hash_fun += self.rand[count % len(self.rand)]\n",
    "                    count += 1\n",
    "            else:\n",
    "                print(\"Элемента \" + str(value) + \" нет в списке!\")\n",
    "                break\n",
    "\n",
    "\n",
    "    def show(self):\n",
    "        for_pr = \"\"\n",
    "        for i in self.table.items():\n",
    "            for_pr += str(i[1]) + \" \"\n",
    "        return for_pr.strip()\n",
    "\n",
    "\n",
    "random_hash = Random_hash()"
   ]
  },
  {
   "source": [
    "#### Сгенерировать значения"
   ],
   "cell_type": "markdown",
   "metadata": {}
  },
  {
   "cell_type": "code",
   "execution_count": 66,
   "metadata": {},
   "outputs": [
    {
     "output_type": "stream",
     "name": "stdout",
     "text": [
      "Список из 20 элементов от 0 до 10000 был создан\n"
     ]
    },
    {
     "output_type": "execute_result",
     "data": {
      "text/plain": [
       "'280 4595 6566 6472 8121 4039 6318 678 4999 1713 4496 2896 8518 1195 1053 4957 509 9460 1940 4302'"
      ]
     },
     "metadata": {},
     "execution_count": 66
    }
   ],
   "source": [
    "def generate_to_random_hash(to_random_hash, min_value, max_value, num_value):\n",
    "    for i in range(num_value):\n",
    "        to_random_hash.insert(random.randint(min_value, max_value))\n",
    "\n",
    "\n",
    "user_min = int(input(\"Введите минимальное значение:\"))\n",
    "user_max = int(input(\"Введите максимальное значение: \"))\n",
    "user_num = int(input(\"Введите количество значений: \"))\n",
    "random_hash = Random_hash()\n",
    "generate_to_random_hash(random_hash, user_min, user_max, user_num)\n",
    "print(\"Список из \" + str(user_num) + \" элементов от \" + str(user_min) + \" до \" + str(user_max) + \" был создан\")\n",
    "random_hash.show()"
   ]
  },
  {
   "source": [
    "#### Добавить значение"
   ],
   "cell_type": "markdown",
   "metadata": {}
  },
  {
   "cell_type": "code",
   "execution_count": 67,
   "metadata": {},
   "outputs": [
    {
     "output_type": "stream",
     "name": "stdout",
     "text": [
      "Элемент 34 был добавлен в список\n"
     ]
    },
    {
     "output_type": "execute_result",
     "data": {
      "text/plain": [
       "'280 4595 6566 6472 8121 4039 6318 678 4999 1713 4496 2896 8518 1195 1053 4957 509 9460 1940 4302 34'"
      ]
     },
     "metadata": {},
     "execution_count": 67
    }
   ],
   "source": [
    "user_add = int(input())\n",
    "random_hash.insert(user_add)\n",
    "print(\"Элемент \" + str(user_add) + \" был добавлен в список\")\n",
    "random_hash.show() "
   ]
  },
  {
   "source": [
    "#### Удалить значение"
   ],
   "cell_type": "markdown",
   "metadata": {}
  },
  {
   "cell_type": "code",
   "execution_count": 68,
   "metadata": {},
   "outputs": [
    {
     "output_type": "stream",
     "name": "stdout",
     "text": [
      "Элемент 280 был удален из списка\nNone\n"
     ]
    },
    {
     "output_type": "execute_result",
     "data": {
      "text/plain": [
       "'4595 6472 8121 4039 6318 678 4999 1713 4496 2896 8518 1195 1053 4957 509 9460 1940 4302 34 6566'"
      ]
     },
     "metadata": {},
     "execution_count": 68
    }
   ],
   "source": [
    "user_delete = int(input())\n",
    "print(random_hash.delete(user_delete))\n",
    "random_hash.show()"
   ]
  },
  {
   "source": [
    "#### Поиск элемента (Рехэширование с помощью псевдослучайных чисел)"
   ],
   "cell_type": "markdown",
   "metadata": {}
  },
  {
   "cell_type": "code",
   "execution_count": 69,
   "metadata": {},
   "outputs": [
    {
     "output_type": "stream",
     "name": "stdout",
     "text": [
      "Элемент 5 не был найден\nВремя: 0.0009975433349609375 с\n"
     ]
    }
   ],
   "source": [
    "user_random_hash = int(input())\n",
    "time_start = time.time()\n",
    "finded_random_hash = random_hash.search(user_random_hash)\n",
    "time_stop = time.time() - time_start\n",
    "if finded_random_hash == -1:\n",
    "    print(\"Элемент {0} не был найден\".format(str(user_random_hash)))\n",
    "else:\n",
    "    print(\"Элемент {0} был найден на {1} месте\".format(str(user_random_hash), str(finded_random_hash)))\n",
    "print(\"Время: {0} с\".format(time_stop))"
   ]
  },
  {
   "cell_type": "markdown",
   "metadata": {},
   "source": [
    "#### Метод цепочек"
   ]
  },
  {
   "cell_type": "code",
   "execution_count": 70,
   "metadata": {},
   "outputs": [],
   "source": [
    "class Chain_hash:\n",
    "    def __init__(self):\n",
    "        self.table = {}\n",
    "        self.count = 0\n",
    "\n",
    "\n",
    "    def insert(self, value):\n",
    "        hash_fun = value % 14\n",
    "        new_elem = [value, self.count]\n",
    "        if hash_fun in self.table.keys():\n",
    "            self.table[hash_fun].append(new_elem)\n",
    "        else:\n",
    "            self.table[hash_fun] = [new_elem]\n",
    "        self.count += 1\n",
    "    \n",
    "\n",
    "    def search(self, value):\n",
    "        hash_fun = value % 14\n",
    "        if hash_fun in self.table.keys():\n",
    "            for i in self.table[hash_fun]:\n",
    "                if i[0] == value:\n",
    "                    return i[1]\n",
    "            return -1\n",
    "        else:\n",
    "            return -1\n",
    "    \n",
    "\n",
    "    def delete(self, value):\n",
    "        hash_fun = value % 14\n",
    "        if hash_fun in self.table.keys():  \n",
    "            for i in self.table[hash_fun]:\n",
    "                if i[0] == value:\n",
    "                    self.table[hash_fun].remove(i)\n",
    "                    print(\"Элемент \" + str(value) + \" был удален из списка\")\n",
    "                    self.count -= 1\n",
    "                    for j in self.table.keys():\n",
    "                        for k in self.table[j]:\n",
    "                            if k[1] > i[1]:\n",
    "                                k[1] -= 1\n",
    "                    break\n",
    "        else:\n",
    "            print(\"Элемента \" + str(value) + \" нет в списке!\")\n",
    "    \n",
    "\n",
    "    def show(self):\n",
    "        step = 0\n",
    "        res = ''\n",
    "        while step < self.count:\n",
    "            for i in self.table.values():\n",
    "                for j in range(len(i)):\n",
    "                    if i[j][1] == step and step < self.count:\n",
    "                        res += str(i[j][0]) + ' '\n",
    "                        step += 1\n",
    "        print(res.strip())"
   ]
  },
  {
   "source": [
    "#### Сгенерировать значения"
   ],
   "cell_type": "markdown",
   "metadata": {}
  },
  {
   "cell_type": "code",
   "execution_count": 72,
   "metadata": {},
   "outputs": [
    {
     "output_type": "stream",
     "name": "stdout",
     "text": [
      "Список из 20 элементов от 0 до 1000 был создан\n277 974 826 514 45 87 182 437 682 621 341 510 776 545 313 563 287 345 827 468\n"
     ]
    }
   ],
   "source": [
    "def generate_to_chain_hash(to_chain_hash, min_value, max_value, num_value):\n",
    "    for i in range(num_value):\n",
    "        to_chain_hash.insert(random.randint(min_value, max_value))\n",
    "\n",
    "\n",
    "user_min = int(input(\"Введите минимальное значение:\"))\n",
    "user_max = int(input(\"Введите максимальное значение: \"))\n",
    "user_num = int(input(\"Введите количество значений: \"))\n",
    "chain_hash = Chain_hash()\n",
    "generate_to_chain_hash(chain_hash, user_min, user_max, user_num)\n",
    "print(\"Список из \" + str(user_num) + \" элементов от \" + str(user_min) + \" до \" + str(user_max) + \" был создан\")\n",
    "chain_hash.show()"
   ]
  },
  {
   "source": [
    "#### Добавить значение"
   ],
   "cell_type": "markdown",
   "metadata": {}
  },
  {
   "cell_type": "code",
   "execution_count": 73,
   "metadata": {},
   "outputs": [
    {
     "output_type": "stream",
     "name": "stdout",
     "text": [
      "Элемент 9 был добавлен в список\n277 974 826 514 45 87 182 437 682 621 341 510 776 545 313 563 287 345 827 468 9\n"
     ]
    }
   ],
   "source": [
    "user_add = int(input())\n",
    "chain_hash.insert(user_add)\n",
    "print(\"Элемент \" + str(user_add) + \" был добавлен в список\")\n",
    "chain_hash.show() "
   ]
  },
  {
   "source": [
    "#### Удалить значение"
   ],
   "cell_type": "markdown",
   "metadata": {}
  },
  {
   "cell_type": "code",
   "execution_count": 74,
   "metadata": {},
   "outputs": [
    {
     "output_type": "stream",
     "name": "stdout",
     "text": [
      "Элемент 9 был удален из списка\nNone\n277 974 826 514 45 87 182 437 682 621 341 510 776 545 313 563 287 345 827 468\n"
     ]
    }
   ],
   "source": [
    "user_delete = int(input())\n",
    "print(chain_hash.delete(user_delete))\n",
    "chain_hash.show()"
   ]
  },
  {
   "source": [
    "#### Поиск элемента (Метод цепочек)"
   ],
   "cell_type": "markdown",
   "metadata": {}
  },
  {
   "cell_type": "code",
   "execution_count": 76,
   "metadata": {},
   "outputs": [
    {
     "output_type": "stream",
     "name": "stdout",
     "text": [
      "Элемент 276 не был найден\nВремя: 0.0 с\n"
     ]
    }
   ],
   "source": [
    "user_chain_hash = int(input())\n",
    "time_start = time.time()\n",
    "finded_chain_hash = chain_hash.search(user_chain_hash)\n",
    "time_stop = time.time() - time_start\n",
    "if finded_chain_hash == -1:\n",
    "    print(\"Элемент {0} не был найден\".format(str(user_chain_hash)))\n",
    "else:\n",
    "    print(\"Элемент {0} был найден на {1} месте\".format(str(user_chain_hash), str(finded_chain_hash)))\n",
    "print(\"Время: {0} с\".format(time_stop))"
   ]
  },
  {
   "cell_type": "markdown",
   "metadata": {},
   "source": [
    "### Задание 3"
   ]
  },
  {
   "cell_type": "code",
   "execution_count": 60,
   "metadata": {},
   "outputs": [
    {
     "output_type": "stream",
     "name": "stdout",
     "text": [
      "О О О О Ф О О О\nО О О О О О Ф О\nО Ф О О О О О О\nО О О О О Ф О О\nО О Ф О О О О О\nФ О О О О О О О\nО О О Ф О О О О\nО О О О О О О Ф\n"
     ]
    }
   ],
   "source": [
    "def check(b):\n",
    "    count = 0\n",
    "    for i in range(8):\n",
    "        for j in range(8):\n",
    "            if b[i][j] == True:\n",
    "                count += 1\n",
    "    return count == 8\n",
    "\n",
    "\n",
    "def regenerate():\n",
    "    global board\n",
    "    board = [[None] * 8 for i in range(8)]\n",
    "\n",
    "    global free_cells\n",
    "    free_cells = []\n",
    "    for i in range(8):\n",
    "        for j in range(8):\n",
    "            free_cells.append([i, j])\n",
    "\n",
    "\n",
    "regenerate()\n",
    "\n",
    "while not check(board):\n",
    "    for i in range(8):  \n",
    "        pre_board = board\n",
    "        pre_cells = free_cells\n",
    "        try:\n",
    "            next_step = random.choice(free_cells)\n",
    "            x, y = next_step[0], next_step[1]\n",
    "            c = True\n",
    "            for k in range(8):\n",
    "                if board[k][y] is None:\n",
    "                    board[k][y] = False\n",
    "                    temp = [k, y]\n",
    "                    free_cells.remove(temp)\n",
    "                elif board[k][y] == True:\n",
    "                    c = False; break\n",
    "                if board[x][k] is None:\n",
    "                    board[x][k] = False\n",
    "                    free_cells.remove([x, k])\n",
    "                elif board[x][k] == True:\n",
    "                    c = False; break\n",
    "                if 0 <= x - k < 8 and 0 <= y + k < 8:\n",
    "                    if board[x - k][y + k] is None:\n",
    "                        board[x - k][y + k] = False\n",
    "                        free_cells.remove([x - k, y + k])\n",
    "                    if board[x - k][y + k] == True:\n",
    "                        c = False; break\n",
    "                if 0 <= x + k < 8 and 0 <= y - k < 8:\n",
    "                    if board[x + k][y - k] is None:\n",
    "                        board[x + k][y - k] = False\n",
    "                        free_cells.remove([x + k, y - k])\n",
    "                    if board[x + k][y - k] == True:\n",
    "                        c = False; break\n",
    "                if 0 <= x + k < 8 and 0 <= y + k < 8:\n",
    "                    if board[x + k][y + k] is None:\n",
    "                        board[x + k][y + k] = False\n",
    "                        free_cells.remove([x + k, y + k])\n",
    "                    if board[x + k][y + k] == True:\n",
    "                        c = False; break\n",
    "                if 0 <= x - k < 8 and 0 <= y - k < 8:\n",
    "                    if board[x-k][y-k] is None:\n",
    "                        board[x-k][y-k] = False\n",
    "                        free_cells.remove([x - k, y - k])\n",
    "                    if board[x-k][y-k] == True:\n",
    "                        c = False; break\n",
    "            board[x][y] = True\n",
    "            if not c:\n",
    "                board = pre_board\n",
    "                free_cells = pre_cells\n",
    "        except IndexError:\n",
    "            regenerate()\n",
    "\n",
    "for i in range(8):\n",
    "    for j in range(8):\n",
    "        if board[i][j] == True:\n",
    "            board[i][j] = 'Ф'\n",
    "        else:\n",
    "            board[i][j] = 'О'\n",
    "for i in range(8):\n",
    "    p0 = board[i][0]\n",
    "    p1 = board[i][1]\n",
    "    p2 = board[i][2]\n",
    "    p3 = board[i][3]\n",
    "    p4 = board[i][4]\n",
    "    p5 = board[i][5]\n",
    "    p6 = board[i][6]\n",
    "    p7 = board[i][7]\n",
    "    print(\"{0} {1} {2} {3} {4} {5} {6} {7}\".format(p0, p1, p2, p3, p4, p5, p6, p7))"
   ]
  },
  {
   "source": [
    "### Вывод\n",
    "\n",
    "В ходе выполнения лабораторной работы я реализовала четыре метода поиска и три вида рехэширования, а также решила задачу с расположение ферзя на шахматной доске."
   ],
   "cell_type": "markdown",
   "metadata": {}
  }
 ],
 "metadata": {
  "kernelspec": {
   "name": "python391jvsc74a57bd0e159defb5f97972724bdefb208d7312f9d46c34261680fb17c6a0687d836281c",
   "display_name": "Python 3.9.1 64-bit"
  },
  "language_info": {
   "codemirror_mode": {
    "name": "ipython",
    "version": 3
   },
   "file_extension": ".py",
   "mimetype": "text/x-python",
   "name": "python",
   "nbconvert_exporter": "python",
   "pygments_lexer": "ipython3",
   "version": "3.9.1"
  },
  "metadata": {
   "interpreter": {
    "hash": "e159defb5f97972724bdefb208d7312f9d46c34261680fb17c6a0687d836281c"
   }
  }
 },
 "nbformat": 4,
 "nbformat_minor": 4
}