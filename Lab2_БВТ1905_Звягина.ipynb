{
 "cells": [
  {
   "cell_type": "markdown",
   "metadata": {},
   "source": [
    "# Лабораторная работа №2"
   ]
  },
  {
   "cell_type": "markdown",
   "metadata": {},
   "source": [
    "## Выполнила студентка группы БВТ1905 Звягина О.В."
   ]
  },
  {
   "cell_type": "markdown",
   "metadata": {},
   "source": [
    "### Задание 1"
   ]
  },
  {
   "cell_type": "code",
   "execution_count": 2,
   "metadata": {},
   "outputs": [],
   "source": [
    "import random\n",
    "import time"
   ]
  },
  {
   "cell_type": "markdown",
   "metadata": {},
   "source": [
    "#### Генерация списка"
   ]
  },
  {
   "cell_type": "code",
   "execution_count": 1,
   "metadata": {},
   "outputs": [
    {
     "output_type": "stream",
     "name": "stdout",
     "text": [
      "Пожалуйста, введите данные для генерации\n",
      "[10, 41, 36, 26, 47]\n"
     ]
    }
   ],
   "source": [
    "def gen_list():\n",
    "    print(\"Пожалуйста, введите данные для генерации\")\n",
    "    n = int(input(\"Количество элементов: \"))\n",
    "    min_limit = int(input(\"Минимальный элемент: \"))\n",
    "    max_limit = int(input(\"Максимальный элемент: \"))\n",
    "\n",
    "    arr = []\n",
    "    for i in range(n):\n",
    "        arr.append(random.randint(min_limit, max_limit))\n",
    "    return arr\n",
    "\n",
    "arr = gen_list()\n",
    "print(arr)"
   ]
  },
  {
   "cell_type": "markdown",
   "metadata": {},
   "source": [
    "#### Добавление элемента"
   ]
  },
  {
   "cell_type": "code",
   "execution_count": 39,
   "metadata": {},
   "outputs": [
    {
     "name": "stdout",
     "output_type": "stream",
     "text": [
      "[0, 0, 5, 6, 7, 19, 21, 21, 26, 27, 31, 34, 34, 34, 35, 43, 44, 44, 45, 46, 46, 48, 50, 52, 52, 53, 53, 54, 56, 58, 60, 61, 66, 68, 70, 71, 73, 75, 75, 80, 81, 83, 84, 86, 89, 91, 91, 93, 95, 95, 96]\n"
     ]
    }
   ],
   "source": [
    "def add_element(arr):\n",
    "    arr.append(int(input()))\n",
    "    arr.sort()\n",
    "    return arr\n",
    "\n",
    "arr = add_element(arr)\n",
    "print(arr)"
   ]
  },
  {
   "cell_type": "markdown",
   "metadata": {},
   "source": [
    "#### Удаление элемента"
   ]
  },
  {
   "cell_type": "code",
   "execution_count": 40,
   "metadata": {},
   "outputs": [
    {
     "name": "stdout",
     "output_type": "stream",
     "text": [
      "Элемент 34 удалён.\n",
      "[0, 0, 5, 6, 7, 19, 21, 21, 26, 27, 31, 34, 34, 35, 43, 44, 44, 45, 46, 46, 48, 50, 52, 52, 53, 53, 54, 56, 58, 60, 61, 66, 68, 70, 71, 73, 75, 75, 80, 81, 83, 84, 86, 89, 91, 91, 93, 95, 95, 96]\n"
     ]
    }
   ],
   "source": [
    "def del_element(arr):\n",
    "    k = int(input(\"Значение для удаления: \"))\n",
    "    if k in arr:\n",
    "        arr.remove(k)\n",
    "        print(\"Элемент \" + str(k) + \" удалён.\")\n",
    "    else:\n",
    "        print(\"Элемента \" + str(k) + \" нет в списке.\")\n",
    "    #return arr\n",
    "\n",
    "del_element(arr)\n",
    "print(arr)"
   ]
  },
  {
   "cell_type": "markdown",
   "metadata": {},
   "source": [
    "#### Бинарный поиск"
   ]
  },
  {
   "cell_type": "code",
   "execution_count": 41,
   "metadata": {},
   "outputs": [],
   "source": [
    "def binary_search(array, key):\n",
    "    lower_bound = 0\n",
    "    upper_bound = len(array) - 1\n",
    "\n",
    "    while lower_bound <= upper_bound:\n",
    "        center = (lower_bound + upper_bound) // 2\n",
    "        \n",
    "        if array[center] > key:\n",
    "            upper_bound = center - 1\n",
    "        elif array[center] < key:\n",
    "            lower_bound = center + 1\n",
    "        else:\n",
    "            return center\n",
    "\n",
    "    return -1\n"
   ]
  },
  {
   "cell_type": "markdown",
   "metadata": {},
   "source": [
    "#### Бинарное дерево"
   ]
  },
  {
   "cell_type": "code",
   "execution_count": 33,
   "metadata": {},
   "outputs": [],
   "source": [
    "class Node:\n",
    "    def __init__(self, value):\n",
    "        self.value = value\n",
    "        self.left = self.right = None\n",
    "\n",
    "class BinaryTree:\n",
    "    def __init__(self):\n",
    "        self.root = None\n",
    "        self.all = []\n",
    "\n",
    "    def get_root(self):\n",
    "        return self.root\n",
    "\n",
    "    def add(self, value):\n",
    "        if self.root is None:\n",
    "            self.root = Node(value)\n",
    "            self.all.append(value)\n",
    "        else:\n",
    "            self._add(value, self.root)\n",
    "\n",
    "    def _add(self, value, node):\n",
    "        if value < node.value:\n",
    "            if node.left is not None:\n",
    "                self._add(value, node.left)\n",
    "            else:\n",
    "                node.left = Node(value)\n",
    "                self.all.append(value)\n",
    "        elif value > node.value:\n",
    "            if node.right is not None:\n",
    "                self._add(value, node.right)\n",
    "            else:\n",
    "                node.right = Node(value)\n",
    "                self.all.append(value)\n",
    "        else:\n",
    "            print(\"Значение уже есть в дереве\")\n",
    "\n",
    "    def find(self, value):\n",
    "        depth = 0\n",
    "        if self.root is not None:\n",
    "            depth += 1\n",
    "            return self._find(value, self.root, depth)\n",
    "        else:\n",
    "            return None\n",
    "\n",
    "    def _find(self, value, node, depth):\n",
    "        if value == node.value:\n",
    "            return depth\n",
    "        elif (value < node.value and node.left is not None):\n",
    "            depth += 1\n",
    "            return self._find(value, node.left, depth)\n",
    "        elif (value > node.value and node.right is not None):\n",
    "            depth += 1\n",
    "            return self._find(value, node.right, depth)\n",
    "        return None\n",
    "\n",
    "    def delete(self, value):\n",
    "        global tree\n",
    "        while value in self.all:\n",
    "            self.all.remove(value)\n",
    "        new_tree = BinaryTree()\n",
    "        for to_new in self.all:\n",
    "            new_tree.add(to_new)\n",
    "        tree = new_tree\n",
    "\n",
    "tree = BinaryTree()"
   ]
  },
  {
   "cell_type": "markdown",
   "metadata": {},
   "source": [
    "### Сгенерировать дерево"
   ]
  },
  {
   "cell_type": "code",
   "execution_count": 34,
   "metadata": {},
   "outputs": [
    {
     "output_type": "stream",
     "name": "stdout",
     "text": [
      "Пожалуйста, введите данные для генерации дерева\n",
      "Дерево из 50 элементов от 0 до 1500 было создано\n"
     ]
    }
   ],
   "source": [
    "print(\"Пожалуйста, введите данные для генерации дерева\")\n",
    "n = int(input(\"Количество элементов: \"))\n",
    "min_limit = int(input(\"Минимальный элемент: \"))\n",
    "max_limit = int(input(\"Максимальный элемент: \"))\n",
    "\n",
    "for i in range(n):\n",
    "    tree.add(random.randint(min_limit, max_limit))\n",
    "print(\"Дерево из {0} элементов от {1} до {2} было создано\".format(str(n), str(min_limit), str(max_limit)))"
   ]
  },
  {
   "cell_type": "markdown",
   "metadata": {},
   "source": [
    "#### Вставить элемент в дерево"
   ]
  },
  {
   "cell_type": "code",
   "execution_count": 38,
   "metadata": {},
   "outputs": [
    {
     "output_type": "stream",
     "name": "stdout",
     "text": [
      "Элемент 42 был добавлен в дерево\n"
     ]
    }
   ],
   "source": [
    "added_num = int(input(\"Элемент для добавления: \"))\n",
    "\n",
    "tree.add(added_num)\n",
    "print(\"Элемент {0} был добавлен в дерево\".format(str(added_num)))"
   ]
  },
  {
   "cell_type": "markdown",
   "metadata": {},
   "source": [
    "#### Удалить элемент из дерева"
   ]
  },
  {
   "cell_type": "code",
   "execution_count": 36,
   "metadata": {},
   "outputs": [
    {
     "output_type": "stream",
     "name": "stdout",
     "text": [
      "Элемент 1 был удален из дерева\n"
     ]
    }
   ],
   "source": [
    "deleted_num = int(input(\"Элемент для удаления: \"))\n",
    "tree.delete(deleted_num)\n",
    "print(\"Элемент {0} был удален из дерева\".format(str(deleted_num)))"
   ]
  },
  {
   "cell_type": "markdown",
   "metadata": {},
   "source": [
    "#### Поиск элемента в дереве"
   ]
  },
  {
   "cell_type": "code",
   "execution_count": 39,
   "metadata": {},
   "outputs": [
    {
     "output_type": "stream",
     "name": "stdout",
     "text": [
      "Элемент 42 находится в 6 узле\n"
     ]
    }
   ],
   "source": [
    "value = int(input(\"Элемент для поиска в дереве: \"))\n",
    "found_num = tree.find(value)\n",
    "\n",
    "if found_num is None:\n",
    "    print(\"Элемента {0} нет в дереве\".format(str(value)))\n",
    "else:\n",
    "    print(\"Элемент {0} находится в {1} узле\".format(str(value), str(found_num)))"
   ]
  },
  {
   "cell_type": "markdown",
   "metadata": {},
   "source": [
    "#### Фибоначчиев поиск"
   ]
  },
  {
   "cell_type": "code",
   "execution_count": 42,
   "metadata": {},
   "outputs": [],
   "source": [
    "def fibonacci_search(array, key):\n",
    "    num_fib_m2 = 0\n",
    "    num_fib_m1 = 1\n",
    "    num_fib = num_fib_m1 + num_fib_m2\n",
    "    while num_fib < len(array):\n",
    "        num_fib_m2 = num_fib_m1\n",
    "        num_fib_m1 = num_fib\n",
    "        num_fib = num_fib_m1 + num_fib_m2\n",
    "    index = -1\n",
    "    while num_fib > 1:\n",
    "        i = min(index + num_fib_m2, (len(array) - 1))\n",
    "        if (array[i] < key):\n",
    "            num_fib = num_fib_m1\n",
    "            num_fib_m1 = num_fib_m2\n",
    "            num_fib_m2 = num_fib - num_fib_m1\n",
    "            index = i\n",
    "        elif (array[i] > key):\n",
    "            num_fib = num_fib_m2\n",
    "            num_fib_m1 = num_fib_m1 - num_fib_m2\n",
    "            num_fib_m2 = num_fib - num_fib_m1\n",
    "        else:\n",
    "            return i\n",
    "    if num_fib_m1 and index < len(array) - 1 and array[index + 1] == key:\n",
    "        return index + 1\n",
    "    return -1"
   ]
  },
  {
   "cell_type": "markdown",
   "metadata": {},
   "source": [
    "#### Интерполяционный поиск"
   ]
  },
  {
   "cell_type": "code",
   "execution_count": 43,
   "metadata": {},
   "outputs": [],
   "source": [
    "def interpol_search(array, key):\n",
    "    lower_bound = 0\n",
    "    upper_bound = len(array) - 1\n",
    "    while lower_bound <= upper_bound and key >= array[lower_bound] and key <= array[upper_bound]:\n",
    "        index = lower_bound + int(((float(upper_bound - lower_bound) / (array[upper_bound] - array[lower_bound])) * (key - array[lower_bound])))\n",
    "        if array[index] == key:\n",
    "            return index\n",
    "        if array[index] < key:\n",
    "            lower_bound = index + 1\n",
    "        else:\n",
    "            upper_bound = index - 1\n",
    "    return -1"
   ]
  },
  {
   "cell_type": "markdown",
   "metadata": {},
   "source": [
    "#### Время работы бинарного поиска"
   ]
  },
  {
   "cell_type": "code",
   "execution_count": 44,
   "metadata": {},
   "outputs": [
    {
     "name": "stdout",
     "output_type": "stream",
     "text": [
      "Введите значение для поиска\n",
      "21\n",
      "Элемент 21 был найден на позиции 6\n",
      "Time: 0.0 s\n"
     ]
    }
   ],
   "source": [
    "print(\"Введите значение для поиска\")\n",
    "value = int(input())\n",
    "print(value)\n",
    "\n",
    "time_start = time.time()\n",
    "find_key = binary_search(arr, value)\n",
    "time_stop = time.time() - time_start\n",
    "if find_key == -1:\n",
    "    print(\"Элемент {0} не был найден\".format(str(value)))\n",
    "elif find_key > -1:\n",
    "    print(\"Элемент {0} был найден на позиции {1}\".format(str(value), str(find_key)))\n",
    "print(\"Time: {0} s\".format(time_stop))"
   ]
  },
  {
   "cell_type": "markdown",
   "metadata": {},
   "source": [
    "#### Время работы бинарного дерева"
   ]
  },
  {
   "cell_type": "code",
   "execution_count": 41,
   "metadata": {},
   "outputs": [
    {
     "output_type": "stream",
     "name": "stdout",
     "text": [
      "Введите значение для поиска\n",
      "42\n"
     ]
    },
    {
     "output_type": "error",
     "ename": "NameError",
     "evalue": "name 'find_key' is not defined",
     "traceback": [
      "\u001b[1;31m---------------------------------------------------------------------------\u001b[0m",
      "\u001b[1;31mNameError\u001b[0m                                 Traceback (most recent call last)",
      "\u001b[1;32m<ipython-input-41-cba37fb4c6d0>\u001b[0m in \u001b[0;36m<module>\u001b[1;34m\u001b[0m\n\u001b[0;32m      9\u001b[0m     \u001b[0mprint\u001b[0m\u001b[1;33m(\u001b[0m\u001b[1;34m\"Элемент {0} не был найден\"\u001b[0m\u001b[1;33m.\u001b[0m\u001b[0mformat\u001b[0m\u001b[1;33m(\u001b[0m\u001b[0mstr\u001b[0m\u001b[1;33m(\u001b[0m\u001b[0mvalue\u001b[0m\u001b[1;33m)\u001b[0m\u001b[1;33m)\u001b[0m\u001b[1;33m)\u001b[0m\u001b[1;33m\u001b[0m\u001b[1;33m\u001b[0m\u001b[0m\n\u001b[0;32m     10\u001b[0m \u001b[1;32melse\u001b[0m\u001b[1;33m:\u001b[0m\u001b[1;33m\u001b[0m\u001b[1;33m\u001b[0m\u001b[0m\n\u001b[1;32m---> 11\u001b[1;33m     \u001b[0mprint\u001b[0m\u001b[1;33m(\u001b[0m\u001b[1;34m\"Элемент {0} был найден на позиции {1}\"\u001b[0m\u001b[1;33m.\u001b[0m\u001b[0mformat\u001b[0m\u001b[1;33m(\u001b[0m\u001b[0mstr\u001b[0m\u001b[1;33m(\u001b[0m\u001b[0mvalue\u001b[0m\u001b[1;33m)\u001b[0m\u001b[1;33m,\u001b[0m \u001b[0mstr\u001b[0m\u001b[1;33m(\u001b[0m\u001b[0mfind_key\u001b[0m\u001b[1;33m)\u001b[0m\u001b[1;33m)\u001b[0m\u001b[1;33m)\u001b[0m\u001b[1;33m\u001b[0m\u001b[1;33m\u001b[0m\u001b[0m\n\u001b[0m\u001b[0;32m     12\u001b[0m \u001b[0mprint\u001b[0m\u001b[1;33m(\u001b[0m\u001b[1;34m\"Time: {0} s\"\u001b[0m\u001b[1;33m.\u001b[0m\u001b[0mformat\u001b[0m\u001b[1;33m(\u001b[0m\u001b[0mtime_stop\u001b[0m\u001b[1;33m)\u001b[0m\u001b[1;33m)\u001b[0m\u001b[1;33m\u001b[0m\u001b[1;33m\u001b[0m\u001b[0m\n",
      "\u001b[1;31mNameError\u001b[0m: name 'find_key' is not defined"
     ]
    }
   ],
   "source": [
    "print(\"Введите значение для поиска\")\n",
    "value = int(input())\n",
    "print(value)\n",
    "\n",
    "time_start = time.time()\n",
    "found_num = tree.find(value)\n",
    "time_stop = time.time() - time_start\n",
    "if found_num is None:\n",
    "    print(\"Элемент {0} не был найден\".format(str(value)))\n",
    "else:\n",
    "    print(\"Элемент {0} был найден в узле {1}\".format(str(value), str(found_num)))\n",
    "print(\"Time: {0} s\".format(time_stop))"
   ]
  },
  {
   "cell_type": "markdown",
   "metadata": {},
   "source": [
    "#### Время работы фибоначчиева поиска "
   ]
  },
  {
   "cell_type": "code",
   "execution_count": 45,
   "metadata": {},
   "outputs": [
    {
     "name": "stdout",
     "output_type": "stream",
     "text": [
      "Элемент 21 был найден на позиции 7\n",
      "Time: 0.0 s\n"
     ]
    }
   ],
   "source": [
    "time_start = time.time()\n",
    "find_key = fibonacci_search(arr, value)\n",
    "time_stop = time.time() - time_start\n",
    "if find_key == -1:\n",
    "    print(\"Элемент {0} не был найден\".format(str(value)))\n",
    "elif find_key > -1:\n",
    "    print(\"Элемент {0} был найден на позиции {1}\".format(str(value), str(find_key)))\n",
    "print(\"Time: {0} s\".format(time_stop))"
   ]
  },
  {
   "cell_type": "markdown",
   "metadata": {},
   "source": [
    "#### Время работы интерполяционного поиска"
   ]
  },
  {
   "cell_type": "code",
   "execution_count": 46,
   "metadata": {},
   "outputs": [
    {
     "name": "stdout",
     "output_type": "stream",
     "text": [
      "Элемент 21 был найден на позиции 7\n",
      "Time: 0.0 s\n"
     ]
    }
   ],
   "source": [
    "time_start = time.time()\n",
    "find_key = interpol_search(arr, value)\n",
    "time_stop = time.time() - time_start\n",
    "if find_key == -1:\n",
    "    print(\"Элемент {0} не был найден\".format(str(value)))\n",
    "elif find_key > -1:\n",
    "    print(\"Элемент {0} был найден на позиции {1}\".format(str(value), str(find_key)))\n",
    "print(\"Time: {0} s\".format(time_stop))"
   ]
  },
  {
   "cell_type": "markdown",
   "metadata": {},
   "source": [
    "### Задание 2"
   ]
  },
  {
   "cell_type": "markdown",
   "metadata": {},
   "source": [
    "#### Простое рехэширование"
   ]
  },
  {
   "cell_type": "code",
   "execution_count": null,
   "metadata": {},
   "outputs": [],
   "source": [
    "class Re_hash:\n",
    "    def __init__(self):\n",
    "        self.table = {}  # Initializing a dict to store hash keys and values \n",
    "\n",
    "\n",
    "    def insert(self, value):\n",
    "        hash_fun = value % 17\n",
    "        while True:\n",
    "            if hash_fun in self.table.keys():\n",
    "                hash_fun += 1\n",
    "            else:\n",
    "                self.table[hash_fun] = value\n",
    "                return hash_fun\n",
    "    \n",
    "\n",
    "    def search(self, value):\n",
    "        hash_fun = value % 17\n",
    "        if hash_fun in self.table.keys():\n",
    "            while True:\n",
    "                count = 0\n",
    "                for i in self.table.items():\n",
    "                    count += 1\n",
    "                    if i[0] == hash_fun:\n",
    "                        if i[1] == value:\n",
    "                            return count\n",
    "                        else:\n",
    "                            hash_fun += 1\n",
    "                return -1\n",
    "        else:\n",
    "            return -1\n",
    "    \n",
    "\n",
    "    def delete(self, value):\n",
    "        hash_fun = value % 17\n",
    "        while True:\n",
    "            if hash_fun in self.table.keys():            \n",
    "                if self.table[hash_fun] == value:\n",
    "                    self.table.pop(hash_fun)\n",
    "                    return \"Element \" + str(value) + \" was removed from list\"\n",
    "                else:\n",
    "                    hash_fun += 1\n",
    "            else:\n",
    "                return \"Element \" + str(value) + \" was not on the list\"\n",
    "\n",
    "\n",
    "    def show(self):\n",
    "        for_pr = \"\"\n",
    "        for i in self.table.items():\n",
    "            for_pr += str(i[1]) + \" \"\n",
    "        return for_pr.strip()\n",
    "\n",
    "\n",
    "re_hash = Re_hash()"
   ]
  },
  {
   "cell_type": "markdown",
   "metadata": {},
   "source": [
    "#### Сгенерировать значения"
   ]
  },
  {
   "cell_type": "code",
   "execution_count": null,
   "metadata": {},
   "outputs": [],
   "source": [
    "def generate_to_re_hash(to_re_hash, min_value, max_value, num_value):\n",
    "    for i in range(num_value):\n",
    "        to_re_hash.insert(random.randint(min_value, max_value))\n",
    "\n",
    "\n",
    "user_min = input(\"Введите минимальное значение:\")\n",
    "user_max = input(\"Введите максимальное значение: \")\n",
    "user_num = input(\"Введите количество значений: \")\n",
    "re_hash = Re_hash()\n",
    "generate_to_re_hash(re_hash, user_min, user_max, user_num)\n",
    "print(\"List of \" + str(user_num) + \" elements from \" + str(user_min) + \" to \" + str(user_max) + \" was created\")\n",
    "re_hash.show()"
   ]
  },
  {
   "cell_type": "markdown",
   "metadata": {},
   "source": [
    "#### Добавить значение"
   ]
  },
  {
   "cell_type": "code",
   "execution_count": null,
   "metadata": {},
   "outputs": [],
   "source": [
    "user_add = int(input())\n",
    "re_hash.insert(user_add)\n",
    "print(\"Element \" + str(user_add.value) + \" was added to list\")\n",
    "re_hash.show()"
   ]
  },
  {
   "cell_type": "markdown",
   "metadata": {},
   "source": [
    "#### Удалить значение"
   ]
  },
  {
   "cell_type": "code",
   "execution_count": null,
   "metadata": {},
   "outputs": [],
   "source": [
    "user_delete = int(input())\n",
    "print(re_hash.delete(user_delete))\n",
    "re_hash.show()"
   ]
  },
  {
   "cell_type": "markdown",
   "metadata": {},
   "source": [
    "#### Поиск элемента (Простое рехэширование)"
   ]
  },
  {
   "cell_type": "code",
   "execution_count": null,
   "metadata": {},
   "outputs": [],
   "source": [
    "user_re_hash = int(input())\n",
    "time_start = time.monotonic()\n",
    "finded_re_hash = re_hash.search(user_re_hash)\n",
    "time_stop = time.monotonic() - time_start\n",
    "if finded_re_hash == -1:\n",
    "    print(\"Element {0} wasn't found\".format(str(user_re_hash)))\n",
    "else:\n",
    "    print(\"Element {0} was found at {1}\".format(str(user_re_hash), str(finded_re_hash)))\n",
    "print(\"Time: {0} s\".format(time_stop))"
   ]
  },
  {
   "cell_type": "markdown",
   "metadata": {},
   "source": [
    "#### Рехэширование с помощью псевдослучайных чисел"
   ]
  },
  {
   "cell_type": "code",
   "execution_count": null,
   "metadata": {},
   "outputs": [],
   "source": [
    "class Random_hash:\n",
    "    def __init__(self):\n",
    "        self.table = {}\n",
    "        self.rand = [1, 2, 3, 4, 5, 6, 7, 8, 9, 10, 11, 12, 13, 14, 15, 16]\n",
    "        random.shuffle(self.rand)\n",
    "\n",
    "    def insert(self, value):\n",
    "        hash_fun = value % 17\n",
    "        while True:\n",
    "            count = 0\n",
    "            if hash_fun in self.table.keys():\n",
    "                hash_fun += self.rand[count % len(self.rand)]\n",
    "            else:\n",
    "                self.table[hash_fun] = value\n",
    "                return hash_fun\n",
    "\n",
    "    def search(self, value):\n",
    "        hash_fun = value % 17\n",
    "        if hash_fun in self.table.keys():\n",
    "            return self._search(hash_fun, value)\n",
    "        else:\n",
    "            return -1\n",
    "\n",
    "    def _search(self, hash_fun, value):\n",
    "        rand_count = count = 0\n",
    "        for i in self.table.items():\n",
    "            count += 1\n",
    "            if i[0] == hash_fun:\n",
    "                if i[1] == value:\n",
    "                    return count\n",
    "                else:\n",
    "                    hash_fun += self.rand[rand_count % len(self.rand)]\n",
    "                    if hash_fun in self.table.keys():\n",
    "                        return self._search(hash_fun, value)\n",
    "                    else:\n",
    "                        return -1\n",
    "    \n",
    "    def delete(self, value):\n",
    "        hash_fun = value % 17\n",
    "        while True:\n",
    "            count = 0\n",
    "            if hash_fun in self.table.keys():            \n",
    "                if self.table[hash_fun] == value:\n",
    "                    self.table.pop(hash_fun)\n",
    "                    break\n",
    "                else:\n",
    "                    hash_fun += self.rand[count % len(self.rand)]\n",
    "                    count += 1\n",
    "            else:\n",
    "                print(\"There is no \" + str(value) + \" in the list!\")\n",
    "                break\n",
    "\n",
    "    def show(self):\n",
    "        for_pr = \"\"\n",
    "        for i in self.table.items():\n",
    "            for_pr += str(i[1]) + \" \"\n",
    "        return for_pr.strip()\n",
    "\n",
    "random_hash = Random_hash()"
   ]
  },
  {
   "cell_type": "markdown",
   "metadata": {},
   "source": [
    "#### Метод цепочек"
   ]
  },
  {
   "cell_type": "code",
   "execution_count": null,
   "metadata": {},
   "outputs": [],
   "source": []
  },
  {
   "cell_type": "markdown",
   "metadata": {},
   "source": [
    "### Задание 3"
   ]
  },
  {
   "cell_type": "code",
   "execution_count": null,
   "metadata": {},
   "outputs": [],
   "source": []
  }
 ],
 "metadata": {
  "kernelspec": {
   "name": "python391jvsc74a57bd0e159defb5f97972724bdefb208d7312f9d46c34261680fb17c6a0687d836281c",
   "display_name": "Python 3.9.1 64-bit"
  },
  "language_info": {
   "codemirror_mode": {
    "name": "ipython",
    "version": 3
   },
   "file_extension": ".py",
   "mimetype": "text/x-python",
   "name": "python",
   "nbconvert_exporter": "python",
   "pygments_lexer": "ipython3",
   "version": "3.9.1"
  },
  "metadata": {
   "interpreter": {
    "hash": "e159defb5f97972724bdefb208d7312f9d46c34261680fb17c6a0687d836281c"
   }
  }
 },
 "nbformat": 4,
 "nbformat_minor": 4
}