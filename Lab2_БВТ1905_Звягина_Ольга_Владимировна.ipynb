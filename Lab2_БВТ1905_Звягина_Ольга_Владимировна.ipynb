{
 "cells": [
  {
   "cell_type": "markdown",
   "metadata": {},
   "source": [
    "# Лабораторная работа №2"
   ]
  },
  {
   "cell_type": "markdown",
   "metadata": {},
   "source": [
    "## Выполнила студентка группы БВТ1905 Звягина О.В."
   ]
  },
  {
   "cell_type": "markdown",
   "metadata": {},
   "source": [
    "### Задание 1"
   ]
  },
  {
   "cell_type": "markdown",
   "metadata": {},
   "source": [
    "#### Генерация списка"
   ]
  },
  {
   "cell_type": "code",
   "execution_count": 38,
   "metadata": {},
   "outputs": [
    {
     "output_type": "stream",
     "name": "stdout",
     "text": [
      "Пожалуйста, введите данные для генерации\n",
      "[66, 27, 0, 19, 71, 34, 21, 26, 81, 43, 46, 45, 61, 44, 95, 21, 56, 52, 52, 80, 6, 96, 53, 50, 73, 44, 34, 53, 58, 86, 35, 89, 83, 5, 91, 75, 34, 95, 68, 31, 70, 46, 75, 48, 84, 0, 60, 91, 93, 54]\n"
     ]
    }
   ],
   "source": [
    "import random\n",
    "import time\n",
    "\n",
    "def gen_list():\n",
    "    print(\"Пожалуйста, введите данные для генерации\")\n",
    "    n = int(input(\"Количество элементов: \"))\n",
    "    min_limit = int(input(\"Минимальный элемент: \"))\n",
    "    max_limit = int(input(\"Максимальный элемент: \"))\n",
    "\n",
    "    arr = []\n",
    "    for i in range(n):\n",
    "        arr.append(random.randint(min_limit, max_limit))\n",
    "    return arr\n",
    "\n",
    "arr = gen_list()\n",
    "print(arr)"
   ]
  },
  {
   "cell_type": "markdown",
   "metadata": {},
   "source": [
    "#### Добавление элемента"
   ]
  },
  {
   "cell_type": "code",
   "execution_count": 39,
   "metadata": {},
   "outputs": [
    {
     "output_type": "stream",
     "name": "stdout",
     "text": [
      "[0, 0, 5, 6, 7, 19, 21, 21, 26, 27, 31, 34, 34, 34, 35, 43, 44, 44, 45, 46, 46, 48, 50, 52, 52, 53, 53, 54, 56, 58, 60, 61, 66, 68, 70, 71, 73, 75, 75, 80, 81, 83, 84, 86, 89, 91, 91, 93, 95, 95, 96]\n"
     ]
    }
   ],
   "source": [
    "def add_element(arr):\n",
    "    arr.append(int(input()))\n",
    "    arr.sort()\n",
    "    return arr\n",
    "\n",
    "arr = add_element(arr)\n",
    "print(arr)"
   ]
  },
  {
   "cell_type": "markdown",
   "metadata": {},
   "source": [
    "#### Удаление элемента"
   ]
  },
  {
   "cell_type": "code",
   "execution_count": 40,
   "metadata": {},
   "outputs": [
    {
     "output_type": "stream",
     "name": "stdout",
     "text": [
      "Элемент 34 удалён.\n[0, 0, 5, 6, 7, 19, 21, 21, 26, 27, 31, 34, 34, 35, 43, 44, 44, 45, 46, 46, 48, 50, 52, 52, 53, 53, 54, 56, 58, 60, 61, 66, 68, 70, 71, 73, 75, 75, 80, 81, 83, 84, 86, 89, 91, 91, 93, 95, 95, 96]\n"
     ]
    }
   ],
   "source": [
    "def del_element(arr):\n",
    "    k = int(input(\"Значение для удаления: \"))\n",
    "    if k in arr:\n",
    "        arr.remove(k)\n",
    "        print(\"Элемент \" + str(k) + \" удалён.\")\n",
    "    else:\n",
    "        print(\"Элемента \" + str(k) + \" нет в списке.\")\n",
    "    #return arr\n",
    "\n",
    "del_element(arr)\n",
    "print(arr)"
   ]
  },
  {
   "cell_type": "markdown",
   "metadata": {},
   "source": [
    "#### Бинарный поиск"
   ]
  },
  {
   "cell_type": "code",
   "execution_count": 41,
   "metadata": {},
   "outputs": [],
   "source": [
    "def binary_search(array, key):\n",
    "    lower_bound = 0\n",
    "    upper_bound = len(array) - 1\n",
    "\n",
    "    while lower_bound <= upper_bound:\n",
    "        center = (lower_bound + upper_bound) // 2\n",
    "        \n",
    "        if array[center] > key:\n",
    "            upper_bound = center - 1\n",
    "        elif array[center] < key:\n",
    "            lower_bound = center + 1\n",
    "        else:\n",
    "            return center\n",
    "\n",
    "    return -1\n"
   ]
  },
  {
   "cell_type": "markdown",
   "metadata": {},
   "source": [
    "#### Бинарное дерево"
   ]
  },
  {
   "cell_type": "code",
   "execution_count": null,
   "metadata": {},
   "outputs": [],
   "source": []
  },
  {
   "cell_type": "markdown",
   "metadata": {},
   "source": [
    "#### Фибоначчиев поиск"
   ]
  },
  {
   "cell_type": "code",
   "execution_count": 42,
   "metadata": {},
   "outputs": [],
   "source": [
    "def fibonacci_search(array, key):\n",
    "    num_fib_m2 = 0\n",
    "    num_fib_m1 = 1\n",
    "    num_fib = num_fib_m1 + num_fib_m2\n",
    "    while num_fib < len(array):\n",
    "        num_fib_m2 = num_fib_m1\n",
    "        num_fib_m1 = num_fib\n",
    "        num_fib = num_fib_m1 + num_fib_m2\n",
    "    index = -1\n",
    "    while num_fib > 1:\n",
    "        i = min(index + num_fib_m2, (len(array) - 1))\n",
    "        if (array[i] < key):\n",
    "            num_fib = num_fib_m1\n",
    "            num_fib_m1 = num_fib_m2\n",
    "            num_fib_m2 = num_fib - num_fib_m1\n",
    "            index = i\n",
    "        elif (array[i] > key):\n",
    "            num_fib = num_fib_m2\n",
    "            num_fib_m1 = num_fib_m1 - num_fib_m2\n",
    "            num_fib_m2 = num_fib - num_fib_m1\n",
    "        else:\n",
    "            return i\n",
    "    if num_fib_m1 and index < len(array) - 1 and array[index + 1] == key:\n",
    "        return index + 1\n",
    "    return -1"
   ]
  },
  {
   "cell_type": "markdown",
   "metadata": {},
   "source": [
    "#### Интерполяционный поиск"
   ]
  },
  {
   "cell_type": "code",
   "execution_count": 43,
   "metadata": {},
   "outputs": [],
   "source": [
    "def interpol_search(array, key):\n",
    "    lower_bound = 0\n",
    "    upper_bound = len(array) - 1\n",
    "    while lower_bound <= upper_bound and key >= array[lower_bound] and key <= array[upper_bound]:\n",
    "        index = lower_bound + int(((float(upper_bound - lower_bound) / (array[upper_bound] - array[lower_bound])) * (key - array[lower_bound])))\n",
    "        if array[index] == key:\n",
    "            return index\n",
    "        if array[index] < key:\n",
    "            lower_bound = index + 1\n",
    "        else:\n",
    "            upper_bound = index - 1\n",
    "    return -1"
   ]
  },
  {
   "source": [
    "#### Время работы бинарного поиска"
   ],
   "cell_type": "markdown",
   "metadata": {}
  },
  {
   "cell_type": "code",
   "execution_count": 44,
   "metadata": {},
   "outputs": [
    {
     "output_type": "stream",
     "name": "stdout",
     "text": [
      "Введите значение для поиска\n",
      "21\n",
      "Элемент 21 был найден на позиции 6\n",
      "Time: 0.0 s\n"
     ]
    }
   ],
   "source": [
    "print(\"Введите значение для поиска\")\n",
    "value = int(input())\n",
    "print(value)\n",
    "\n",
    "time_start = time.time()\n",
    "find_key = binary_search(arr, value)\n",
    "time_stop = time.time() - time_start\n",
    "if find_key == -1:\n",
    "    print(\"Элемент {0} не был найден\".format(str(value)))\n",
    "elif find_key > -1:\n",
    "    print(\"Элемент {0} был найден на позиции {1}\".format(str(value), str(find_key)))\n",
    "print(\"Time: {0} s\".format(time_stop))"
   ]
  },
  {
   "source": [
    "#### Время работы бинарного дерева"
   ],
   "cell_type": "markdown",
   "metadata": {}
  },
  {
   "cell_type": "code",
   "execution_count": null,
   "metadata": {},
   "outputs": [],
   "source": []
  },
  {
   "source": [
    "#### Время работы фибоначчиева поиска "
   ],
   "cell_type": "markdown",
   "metadata": {}
  },
  {
   "cell_type": "code",
   "execution_count": 45,
   "metadata": {},
   "outputs": [
    {
     "output_type": "stream",
     "name": "stdout",
     "text": [
      "Элемент 21 был найден на позиции 7\nTime: 0.0 s\n"
     ]
    }
   ],
   "source": [
    "time_start = time.time()\n",
    "find_key = fibonacci_search(arr, value)\n",
    "time_stop = time.time() - time_start\n",
    "if find_key == -1:\n",
    "    print(\"Элемент {0} не был найден\".format(str(value)))\n",
    "elif find_key > -1:\n",
    "    print(\"Элемент {0} был найден на позиции {1}\".format(str(value), str(find_key)))\n",
    "print(\"Time: {0} s\".format(time_stop))"
   ]
  },
  {
   "source": [
    "#### Время работы интерполяционного поиска"
   ],
   "cell_type": "markdown",
   "metadata": {}
  },
  {
   "cell_type": "code",
   "execution_count": 46,
   "metadata": {},
   "outputs": [
    {
     "output_type": "stream",
     "name": "stdout",
     "text": [
      "Элемент 21 был найден на позиции 7\nTime: 0.0 s\n"
     ]
    }
   ],
   "source": [
    "time_start = time.time()\n",
    "find_key = interpol_search(arr, value)\n",
    "time_stop = time.time() - time_start\n",
    "if find_key == -1:\n",
    "    print(\"Элемент {0} не был найден\".format(str(value)))\n",
    "elif find_key > -1:\n",
    "    print(\"Элемент {0} был найден на позиции {1}\".format(str(value), str(find_key)))\n",
    "print(\"Time: {0} s\".format(time_stop))"
   ]
  },
  {
   "cell_type": "markdown",
   "metadata": {},
   "source": [
    "### Задание 2"
   ]
  },
  {
   "cell_type": "markdown",
   "metadata": {},
   "source": [
    "#### Простое рехэширование"
   ]
  },
  {
   "cell_type": "code",
   "execution_count": null,
   "metadata": {},
   "outputs": [],
   "source": []
  },
  {
   "cell_type": "markdown",
   "metadata": {},
   "source": [
    "#### Рехэширование с помощью псевдослучайных чисел"
   ]
  },
  {
   "cell_type": "code",
   "execution_count": null,
   "metadata": {},
   "outputs": [],
   "source": []
  },
  {
   "cell_type": "markdown",
   "metadata": {},
   "source": [
    "#### Метод цепочек"
   ]
  },
  {
   "cell_type": "code",
   "execution_count": null,
   "metadata": {},
   "outputs": [],
   "source": []
  },
  {
   "cell_type": "markdown",
   "metadata": {},
   "source": [
    "### Задание 3"
   ]
  },
  {
   "cell_type": "code",
   "execution_count": null,
   "metadata": {},
   "outputs": [],
   "source": []
  }
 ],
 "metadata": {
  "kernelspec": {
   "display_name": "Python 3",
   "language": "python",
   "name": "python3"
  },
  "language_info": {
   "codemirror_mode": {
    "name": "ipython",
    "version": 3
   },
   "file_extension": ".py",
   "mimetype": "text/x-python",
   "name": "python",
   "nbconvert_exporter": "python",
   "pygments_lexer": "ipython3",
   "version": "3.8.5-final"
  }
 },
 "nbformat": 4,
 "nbformat_minor": 4
}