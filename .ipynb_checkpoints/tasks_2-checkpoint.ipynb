{
 "cells": [
  {
   "cell_type": "markdown",
   "metadata": {},
   "source": [
    "# Пак задач 2"
   ]
  },
  {
   "cell_type": "markdown",
   "metadata": {},
   "source": [
    "## Задача 1"
   ]
  },
  {
   "cell_type": "markdown",
   "metadata": {},
   "source": [
    "Массив A состоит из целых положительных чисел - длин отрезков. Составьте из трех отрезков такой треугольник, чтобы его периметр был максимально возможным. Если невозможно составить треугольник с положительной площадью - функция возвращает 0.\n",
    "\n",
    "Ограничения:\n",
    "\n",
    "• 3 ⩽ len(A) ⩽ 10000\n",
    "\n",
    "• 1 ⩽ A[i] ⩽ 10^6"
   ]
  },
  {
   "cell_type": "code",
   "execution_count": null,
   "metadata": {},
   "outputs": [],
   "source": []
  },
  {
   "cell_type": "markdown",
   "metadata": {},
   "source": [
    "## Задача 2"
   ]
  },
  {
   "cell_type": "markdown",
   "metadata": {},
   "source": [
    "Дан массив неотрицательных целых чисел nums. Расположите их в таком порядке, чтобы вместе они образовали максимально возможное число. \n",
    "\n",
    "Замечание:\n",
    "\n",
    "Результат может быть очень большим числом, поэтому представьте его как string, а не integer.\n",
    "\n",
    "Ограничения:\n",
    "\n",
    "• 1 ⩽ len(nums) ⩽ 100\n",
    "\n",
    "• 0 ⩽ nums[i] ⩽ 109"
   ]
  },
  {
   "cell_type": "code",
   "execution_count": null,
   "metadata": {},
   "outputs": [],
   "source": []
  },
  {
   "cell_type": "markdown",
   "metadata": {},
   "source": [
    "## Задача 3"
   ]
  },
  {
   "cell_type": "markdown",
   "metadata": {},
   "source": [
    "Дана матрица mat размером m * n, значения - целочисленные. Напишите функцию, сор тирующую каждую диагональ матрицы по возрастанию и возвращающую получившуюся матрицу.\n",
    "\n",
    "Ограничения:\n",
    "\n",
    "• m == len(mat)\n",
    "\n",
    "• n == len(mat[i])\n",
    "\n",
    "• 1 ⩽ m, n ⩽ 100\n",
    "\n",
    "• 1 ⩽ mat[i][j] ⩽ 100"
   ]
  },
  {
   "cell_type": "code",
   "execution_count": null,
   "metadata": {},
   "outputs": [],
   "source": []
  }
 ],
 "metadata": {
  "kernelspec": {
   "display_name": "Python 3",
   "language": "python",
   "name": "python3"
  },
  "language_info": {
   "codemirror_mode": {
    "name": "ipython",
    "version": 3
   },
   "file_extension": ".py",
   "mimetype": "text/x-python",
   "name": "python",
   "nbconvert_exporter": "python",
   "pygments_lexer": "ipython3",
   "version": "3.8.5"
  }
 },
 "nbformat": 4,
 "nbformat_minor": 4
}
