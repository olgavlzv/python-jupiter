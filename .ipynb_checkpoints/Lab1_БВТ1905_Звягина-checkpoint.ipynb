{
 "cells": [
  {
   "cell_type": "markdown",
   "metadata": {},
   "source": [
    "# Лабораторная работа №1\n",
    "## Выполнила студентка группы БВТ1905 Звягина О.В.\n",
    "### Задание 1"
   ]
  },
  {
   "cell_type": "code",
   "execution_count": 10,
   "metadata": {
    "scrolled": true
   },
   "outputs": [
    {
     "name": "stdout",
     "output_type": "stream",
     "text": [
      "Hello world!!\n"
     ]
    }
   ],
   "source": [
    "print(\"Hello world!!\")"
   ]
  },
  {
   "cell_type": "markdown",
   "metadata": {},
   "source": [
    "### Задание 2"
   ]
  },
  {
   "cell_type": "code",
   "execution_count": 21,
   "metadata": {},
   "outputs": [],
   "source": [
    "import random\n",
    "import time\n",
    "\n",
    "m = 50\n",
    "n = 50\n",
    "\n",
    "def gen_matrix():\n",
    "    print(\"\\nГенерация многомерной матрицы...\")\n",
    "    global m, n\n",
    "    min_limit = -250\n",
    "    max_limit = 1007\n",
    "    flag = True\n",
    "\n",
    "    answ = int(input(\"Хотите ввести свои данные для генерации? 1 - если да, 0 - иначе. \\n\"))\n",
    "    if answ == 1:\n",
    "        m = int(input(\"Количество строк: \"))\n",
    "        n = int(input(\"Количество столбцов: \"))\n",
    "        min_limit = int(input(\"Минимальный элемент: \"))\n",
    "        max_limit = int(input(\"Максимальный элемент: \"))\n",
    "    elif answ == 0:\n",
    "        print(\"Данные по умолчанию:\")\n",
    "        print(\"Количество строк: \" + str(m) + \"\\nКоличество столбцов: \" + str(n) + \"\\nМинимальный элемент: \" + str(min_limit) + \"\\nМаксимальный элемент: \" + str(max_limit))\n",
    "    else:\n",
    "        print(\"Пожалуйста, введите 1 или 0!\")\n",
    "        flag = False\n",
    "\n",
    "    if flag: \n",
    "        matrix = []\n",
    "        for i in range(m):\n",
    "            matrix.append([])\n",
    "            for j in range(n):\n",
    "                k = random.randint(min_limit, max_limit)\n",
    "                matrix[i].append(k)\n",
    "        return(matrix)"
   ]
  },
  {
   "cell_type": "markdown",
   "metadata": {},
   "source": [
    "### Задание 3"
   ]
  },
  {
   "cell_type": "markdown",
   "metadata": {},
   "source": [
    "#### Стандартная сортировка Python"
   ]
  },
  {
   "cell_type": "code",
   "execution_count": 15,
   "metadata": {
    "tags": []
   },
   "outputs": [
    {
     "name": "stdout",
     "output_type": "stream",
     "text": [
      "Генерация многомерной матрицы\n",
      "Данные по умолчанию:\n",
      "Количество строк: 50\n",
      "Количество столбцов: 50\n",
      "Минимальный элемент: -250\n",
      "Максимальный элемент: 1007\n",
      "Стандартная сортировка заняла 0.0 с\n"
     ]
    }
   ],
   "source": [
    "#стандартная сортировка python\n",
    "matr = gen_matrix() #наша матрица\n",
    "timestart = time.time() #время начала\n",
    "for i in range(n):\n",
    "    matr[i].sort() #станартная сортировка\n",
    "deftime = time.time() - timestart #время работы функции\n",
    "print(\"Стандартная сортировка заняла {0} с\".format(deftime))    "
   ]
  },
  {
   "cell_type": "markdown",
   "metadata": {},
   "source": [
    "#### Сортировка выбором"
   ]
  },
  {
   "cell_type": "code",
   "execution_count": 11,
   "metadata": {
    "tags": []
   },
   "outputs": [],
   "source": [
    "#сортировка выбором\n",
    "def selection_sort(matrix):\n",
    "    for i in range(0, len(matrix)):\n",
    "        minIndex = i\n",
    "        for j in range(i + 1, len(matrix)):\n",
    "            if matrix[j] < matrix[minIndex]: #если меньше минимума, то меняем минимум\n",
    "                minIndex = j\n",
    "            if minIndex != i:\n",
    "                matrix[i], matrix[minIndex] = matrix[minIndex], matrix[i] #меняем местами с минимумом\n",
    "    return matrix              "
   ]
  },
  {
   "cell_type": "markdown",
   "metadata": {},
   "source": [
    "#### Сортировка вставкой"
   ]
  },
  {
   "cell_type": "code",
   "execution_count": 12,
   "metadata": {
    "tags": []
   },
   "outputs": [],
   "source": [
    "#сортировка вставкой\n",
    "def insertion_sort(matrix):\n",
    "    for i in range(1, len(matrix)):\n",
    "        tmp = matrix[i] # временная переменная для элемента, который мы \"вытаскиваем\" из массива\n",
    "        minIndex = i\n",
    "        while minIndex > 0 and tmp < matrix[minIndex - 1]:\n",
    "            matrix[minIndex] = matrix[minIndex - 1]\n",
    "            minIndex -= 1\n",
    "            matrix[minIndex] = tmp\n",
    "    return matrix"
   ]
  },
  {
   "cell_type": "markdown",
   "metadata": {},
   "source": [
    "#### Сортировка обменом"
   ]
  },
  {
   "cell_type": "code",
   "execution_count": 13,
   "metadata": {},
   "outputs": [],
   "source": [
    "#сортировка обменом(пузырьком)\n",
    "def bubble_sort(matrix):\n",
    "    lenght = len(matrix)\n",
    "    for i in range(lenght - 1):\n",
    "        for j in range(0, lenght - i - 1):\n",
    "            if matrix[j] > matrix[j + 1]: #меняем местами элементы, если правый больше левого\n",
    "                matrix[j], matrix[j + 1] = matrix[j + 1], matrix[j]\n",
    "    return matrix"
   ]
  },
  {
   "cell_type": "markdown",
   "metadata": {},
   "source": [
    "#### Сортировка Шелла"
   ]
  },
  {
   "cell_type": "code",
   "execution_count": 14,
   "metadata": {},
   "outputs": [],
   "source": [
    "#сортировка Шелла\n",
    "def shell_sort(matrix):\n",
    "    for i in range(len(matrix)):\n",
    "        j = i - 1\n",
    "        gap = matrix[i]\n",
    "        while matrix[j] > gap and j >= 0:\n",
    "            matrix[j + 1] = matrix[j]\n",
    "            j -= 1\n",
    "        matrix[j + 1] = gap\n",
    "    return matrix      "
   ]
  },
  {
   "cell_type": "markdown",
   "metadata": {},
   "source": [
    "#### Сортировка турнирная"
   ]
  },
  {
   "cell_type": "code",
   "execution_count": 15,
   "metadata": {},
   "outputs": [],
   "source": [
    "#сортировка турнирная\n",
    "\n",
    "def tournament_sort(matrix):\n",
    "    for i in range(len(matrix) // 2, -1, -1):\n",
    "        heapify(matrix, len(matrix), i)\n",
    "    for i in range(len(matrix) - 1, -1, -1):\n",
    "        if matrix[0] > matrix[i]:\n",
    "            matrix[0], matrix[i] = matrix[i], matrix[0]\n",
    "            heapify(matrix, i, 0)\n",
    "    return matrix\n",
    "\n",
    "def heapify(heap_array, n, k):\n",
    "    m = k\n",
    "    left = 2 * k\n",
    "    right = 2 * k + 1\n",
    "    if left < n and heap_array[m] < heap_array[left]:\n",
    "        m = left\n",
    "    if right < n and heap_array[m] < heap_array[right]:\n",
    "        m = right\n",
    "    if m != k:\n",
    "        heap_array[k], heap_array[m] = heap_array[m], heap_array[k]\n",
    "        heapify(heap_array, n, m)\n",
    "    return heap_array"
   ]
  },
  {
   "cell_type": "markdown",
   "metadata": {},
   "source": [
    "#### Сортировка быстрая"
   ]
  },
  {
   "cell_type": "code",
   "execution_count": 16,
   "metadata": {},
   "outputs": [],
   "source": [
    "#сортировка быстрая\n",
    "def quick_sort(matrix):\n",
    "    if len(matrix) <= 1:\n",
    "        return matrix\n",
    "    else:\n",
    "        q = random.choice(matrix)\n",
    "        lower = []\n",
    "        middle = []\n",
    "        higher = []\n",
    "        for i in matrix:\n",
    "            if i < q:\n",
    "                lower.append(i)\n",
    "            elif i > q:\n",
    "                higher.append(i)\n",
    "            else:\n",
    "                middle.append(i)\n",
    "        return quick_sort(lower) + middle + quick_sort(higher)"
   ]
  },
  {
   "cell_type": "markdown",
   "metadata": {},
   "source": [
    "#### Сортировка пирамидальная"
   ]
  },
  {
   "cell_type": "code",
   "execution_count": 17,
   "metadata": {},
   "outputs": [],
   "source": [
    "#сортировка пирамидальная\n",
    "def heap_sort(matrix):\n",
    "    for i in range(len(matrix), -1, -1):\n",
    "        heapify(matrix, len(matrix), i)\n",
    "    for i in range(len(matrix) - 1, 0, -1):\n",
    "        matrix[i], matrix[0] = matrix[0], matrix[i]\n",
    "        heapify(matrix, i, 0)\n",
    "    return matrix\n",
    "\n",
    "def heapify(heap_array, n, k):\n",
    "    largest = k\n",
    "    left = 2 * k + 1\n",
    "    right = 2 * k + 2\n",
    "    if left < n and heap_array[largest] < heap_array[left]:\n",
    "        largest = left\n",
    "    if right < n and heap_array[largest] < heap_array[right]:\n",
    "        largest = right\n",
    "    if largest != k:\n",
    "        heap_array[k], heap_array[largest] = heap_array[largest], heap_array[k]\n",
    "        heapify(heap_array, n, largest)\n",
    "    return heap_array   "
   ]
  },
  {
   "cell_type": "markdown",
   "metadata": {},
   "source": [
    "#### Результаты работы сортировок"
   ]
  },
  {
   "cell_type": "code",
   "execution_count": 22,
   "metadata": {},
   "outputs": [
    {
     "name": "stdout",
     "output_type": "stream",
     "text": [
      "\n",
      "Генерация многомерной матрицы...\n",
      "Данные по умолчанию:\n",
      "Количество строк: 50\n",
      "Количество столбцов: 50\n",
      "Минимальный элемент: -250\n",
      "Максимальный элемент: 1007\n",
      "\n",
      "Сортировка выбором заняла 0.01097869873046875 с\n",
      "\n",
      "Генерация многомерной матрицы...\n",
      "Данные по умолчанию:\n",
      "Количество строк: 50\n",
      "Количество столбцов: 50\n",
      "Минимальный элемент: -250\n",
      "Максимальный элемент: 1007\n",
      "\n",
      "Сортировка вставкой заняла 0.00997471809387207 с\n",
      "\n",
      "Генерация многомерной матрицы...\n",
      "Данные по умолчанию:\n",
      "Количество строк: 50\n",
      "Количество столбцов: 50\n",
      "Минимальный элемент: -250\n",
      "Максимальный элемент: 1007\n",
      "\n",
      "Сортировка обменом (пузырьком) заняла 0.009971380233764648 с\n",
      "\n",
      "Генерация многомерной матрицы...\n",
      "Данные по умолчанию:\n",
      "Количество строк: 50\n",
      "Количество столбцов: 50\n",
      "Минимальный элемент: -250\n",
      "Максимальный элемент: 1007\n",
      "\n",
      "Сортировка Шелла заняла 0.0050182342529296875 с\n",
      "\n",
      "Генерация многомерной матрицы...\n",
      "Данные по умолчанию:\n",
      "Количество строк: 50\n",
      "Количество столбцов: 50\n",
      "Минимальный элемент: -250\n",
      "Максимальный элемент: 1007\n",
      "\n",
      "Турнирная сортировка заняла 0.005976438522338867 с\n",
      "\n",
      "Генерация многомерной матрицы...\n",
      "Данные по умолчанию:\n",
      "Количество строк: 50\n",
      "Количество столбцов: 50\n",
      "Минимальный элемент: -250\n",
      "Максимальный элемент: 1007\n",
      "\n",
      "Быстрая сортировка заняла 0.0019943714141845703 с\n",
      "\n",
      "Генерация многомерной матрицы...\n",
      "Данные по умолчанию:\n",
      "Количество строк: 50\n",
      "Количество столбцов: 50\n",
      "Минимальный элемент: -250\n",
      "Максимальный элемент: 1007\n",
      "\n",
      "Пирамидальная сортировка заняла 0.007012844085693359 с\n"
     ]
    }
   ],
   "source": [
    "matrsel = gen_matrix() #наша матрица\n",
    "timesel = time.time() #время начала\n",
    "for i in range(n):\n",
    "    matrsel[i] = selection_sort(matrsel[i]) #сортируем строчку и заменяем\n",
    "deftime = time.time() - timesel #время работы функции\n",
    "print(\"\\nСортировка выбором заняла {0} с\".format(deftime))\n",
    "\n",
    "matrins = gen_matrix()\n",
    "timeins = time.time() #время начала\n",
    "for i in range(n):\n",
    "    matrins[i] = insertion_sort(matrins[i])\n",
    "deftime = time.time() - timeins #время работы функции\n",
    "print(\"\\nСортировка вставкой заняла {0} с\".format(deftime))\n",
    "        \n",
    "matrbub = gen_matrix()\n",
    "timebub = time.time() #время начала\n",
    "for i in range(n):\n",
    "    matrbub[i] = bubble_sort(matrbub[i])\n",
    "deftime = time.time() - timebub #время работы функции\n",
    "print(\"\\nСортировка обменом (пузырьком) заняла {0} с\".format(deftime))\n",
    "\n",
    "matrshell = gen_matrix()\n",
    "timeshell = time.time() #время начала\n",
    "for i in range(n):\n",
    "    matrshell[i] = shell_sort(matrshell[i]) #сортируем строчку и заменяем\n",
    "deftime = time.time() - timeshell #время работы функции\n",
    "print(\"\\nСортировка Шелла заняла {0} с\".format(deftime))  \n",
    "\n",
    "matrt = gen_matrix()\n",
    "timet = time.time() #время начала\n",
    "for i in range(n):\n",
    "    matrt[i] = tournament_sort(matrt[i]) #сортируем строчку и заменяем\n",
    "deftime = time.time() - timet #время работы функции\n",
    "print(\"\\nТурнирная сортировка заняла {0} с\".format(deftime))\n",
    "    \n",
    "matrq = gen_matrix()\n",
    "timeq = time.time() #время начала\n",
    "for i in range(n):\n",
    "    matrq[i] = quick_sort(matrq[i]) #сортируем строчку и заменяем\n",
    "deftime = time.time() - timeq #время работы функции\n",
    "print(\"\\nБыстрая сортировка заняла {0} с\".format(deftime))\n",
    "\n",
    "matrheap = gen_matrix()\n",
    "timeheap = time.time() #время начала\n",
    "for i in range(n):\n",
    "    matrheap[i] = heap_sort(matrheap[i]) #сортируем строчку и заменяем\n",
    "deftime = time.time() - timeheap #время работы функции\n",
    "print(\"\\nПирамидальная сортировка заняла {0} с\".format(deftime)) "
   ]
  },
  {
   "cell_type": "code",
   "execution_count": null,
   "metadata": {},
   "outputs": [],
   "source": []
  }
 ],
 "metadata": {
  "kernelspec": {
   "display_name": "Python 3",
   "language": "python",
   "name": "python3"
  },
  "language_info": {
   "codemirror_mode": {
    "name": "ipython",
    "version": 3
   },
   "file_extension": ".py",
   "mimetype": "text/x-python",
   "name": "python",
   "nbconvert_exporter": "python",
   "pygments_lexer": "ipython3",
   "version": "3.8.5"
  }
 },
 "nbformat": 4,
 "nbformat_minor": 4
}
