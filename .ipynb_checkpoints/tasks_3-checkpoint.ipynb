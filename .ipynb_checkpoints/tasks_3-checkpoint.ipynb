{
 "cells": [
  {
   "cell_type": "markdown",
   "metadata": {},
   "source": [
    "# Пак задач 3"
   ]
  },
  {
   "cell_type": "markdown",
   "metadata": {},
   "source": [
    "## Задача 1"
   ]
  },
  {
   "cell_type": "markdown",
   "metadata": {},
   "source": [
    "Даны две строки: s1 и s2 с одинаковым размером, проверьте, может ли некоторая перестановка строки s1 “победить” некоторую перестановку строки s2 или наоборот.\n",
    "Строка x может “победить” строку y (обе имеют размер n), если x[i]> = y[i] (в алфавитном порядке) для всех i от 0 до n-1."
   ]
  },
  {
   "cell_type": "code",
   "execution_count": null,
   "metadata": {},
   "outputs": [],
   "source": [
    "def permutation(pa):\n",
    "    res = []\n",
    "    _permutation(pa, 0, res)\n",
    "    return res\n",
    "\n",
    "\n",
    "def _permutation(pa, i, res):\n",
    "    if i == len(pa) - 1:\n",
    "        elem = ''\n",
    "        for a in pa:\n",
    "            elem += str(a)\n",
    "        if elem not in res:\n",
    "            res.append(elem)\n",
    "    else:\n",
    "        for j in range(i, len(pa)):\n",
    "            swap(pa, i, j)\n",
    "            _permutation(pa, i + 1, res)\n",
    "            swap(pa, i, j)\n",
    "\n",
    "\n",
    "def swap(pa, i, j):\n",
    "    k = pa[i]\n",
    "    pa[i] = pa[j]\n",
    "    pa[j] = k\n",
    "\n",
    "\n",
    "s1 = input()\n",
    "s2 = input()\n",
    "if len(s1) == len(s2):\n",
    "    list_s1 = list(s1); list_s2 = list(s2)\n",
    "    perms_s1 = permutation(list_s1)\n",
    "    perms_s2 = permutation(list_s2)\n",
    "    res_s1 = []; res_s2 = []\n",
    "    for i in perms_s1:\n",
    "        for j in perms_s2:\n",
    "            c = True\n",
    "            for k in range(len(s1)):\n",
    "                if ord(i[k]) < ord(j[k]):\n",
    "                    c = False\n",
    "            if c and i not in res_s1:\n",
    "                res_s1.append(i)\n",
    "    for i in perms_s2:\n",
    "        for j in perms_s1:\n",
    "            c = True\n",
    "            for k in range(len(s1)):\n",
    "                if ord(i[k]) < ord(j[k]):\n",
    "                    c = False\n",
    "            if c and i not in res_s2:\n",
    "                res_s2.append(i)\n",
    "    print(\"true\") if len(res_s1) > 0 or len(res_s2) > 0 else print(\"false\")\n",
    "else:\n",
    "    print(\"The length of the strings doesn't match!\")"
   ]
  },
  {
   "cell_type": "markdown",
   "metadata": {},
   "source": [
    "## Задача 2"
   ]
  },
  {
   "cell_type": "markdown",
   "metadata": {},
   "source": [
    "Дана строка s, вернуть самую длинную полиндромную подстроку в s."
   ]
  },
  {
   "cell_type": "code",
   "execution_count": null,
   "metadata": {},
   "outputs": [],
   "source": [
    "def reversed(str):  # additional function for line reversal\n",
    "    return str[::-1]\n",
    "\n",
    "string = input()\n",
    "res = ['']\n",
    "for i in range(len(string)-2):\n",
    "    for j in range(i+2, len(string)+1):\n",
    "        if string[i:j] == reversed(string[i:j]):\n",
    "            if len(string[i:j]) > len(res[0]):\n",
    "                res = [string[i:j]]\n",
    "            elif len(string[i:j]) == len(res[0]):\n",
    "                res.append(string[i:j])\n",
    "print(\"There are no palindromes!\") if res[0] == '' else print(res)"
   ]
  },
  {
   "cell_type": "markdown",
   "metadata": {},
   "source": [
    "## Задача 3"
   ]
  },
  {
   "cell_type": "markdown",
   "metadata": {},
   "source": [
    "Вернуть количество отдельных непустых подстрок текста, которые могут быть записаны как конкатенация некоторой строки с самой собой (т.е. она может быть записана, как a + a, где a - некоторая строка)."
   ]
  },
  {
   "cell_type": "code",
   "execution_count": null,
   "metadata": {},
   "outputs": [],
   "source": [
    "string = input()\n",
    "res = ['']\n",
    "for i in range(len(string)-2):\n",
    "    for j in range(i+2, len(string)+1):\n",
    "        if (j - i) % 2 == 0:\n",
    "            center = (i + j) // 2\n",
    "            if string[i:center] == string[center:j] and string[i:j] not in res:\n",
    "                if len(string[i:j]) > len(res[0]):\n",
    "                    res = [string[i:j]]\n",
    "                elif len(string[i:j]) == len(res[0]):\n",
    "                    res.append(string[i:j])\n",
    "print(\"There are no concatenations!\") if res[0] == '' else print(res)"
   ]
  }
 ],
 "metadata": {
  "kernelspec": {
   "display_name": "Python 3",
   "language": "python",
   "name": "python3"
  },
  "language_info": {
   "codemirror_mode": {
    "name": "ipython",
    "version": 3
   },
   "file_extension": ".py",
   "mimetype": "text/x-python",
   "name": "python",
   "nbconvert_exporter": "python",
   "pygments_lexer": "ipython3",
   "version": "3.8.5"
  }
 },
 "nbformat": 4,
 "nbformat_minor": 4
}
