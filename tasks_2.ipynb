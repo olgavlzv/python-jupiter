{
 "cells": [
  {
   "cell_type": "markdown",
   "metadata": {},
   "source": [
    "# Пак задач 2"
   ]
  },
  {
   "cell_type": "markdown",
   "metadata": {},
   "source": [
    "## Задача 1"
   ]
  },
  {
   "cell_type": "markdown",
   "metadata": {},
   "source": [
    "Массив A состоит из целых положительных чисел - длин отрезков. Составьте из трех отрезков такой треугольник, чтобы его периметр был максимально возможным. Если невозможно составить треугольник с положительной площадью - функция возвращает 0.\n",
    "\n",
    "Ограничения:\n",
    "\n",
    "• 3 ⩽ len(A) ⩽ 10000\n",
    "\n",
    "• 1 ⩽ A[i] ⩽ 10^6"
   ]
  },
  {
   "cell_type": "code",
   "execution_count": 4,
   "metadata": {},
   "outputs": [
    {
     "output_type": "stream",
     "name": "stdout",
     "text": [
      "[14, 13, 10, 9, 7, 6]\n37\n"
     ]
    }
   ],
   "source": [
    "a = input().split()\n",
    "for i in range(len(a)):\n",
    "    a[i] = int(a[i])\n",
    "a.sort(reverse=True)\n",
    "max_length = 0\n",
    "for i in range(len(a)):\n",
    "    for j in range(i + 1, len(a)):\n",
    "        for k in range(j + 1, len(a)):\n",
    "            if a[i] <= a[j] + a[k]:\n",
    "                max_length = max(max_length, a[i] + a[j] + a[k])\n",
    "print(a)\n",
    "print(max_length)"
   ]
  },
  {
   "cell_type": "markdown",
   "metadata": {},
   "source": [
    "## Задача 2"
   ]
  },
  {
   "cell_type": "markdown",
   "metadata": {},
   "source": [
    "Дан массив неотрицательных целых чисел nums. Расположите их в таком порядке, чтобы вместе они образовали максимально возможное число. \n",
    "\n",
    "Замечание:\n",
    "\n",
    "Результат может быть очень большим числом, поэтому представьте его как string, а не integer.\n",
    "\n",
    "Ограничения:\n",
    "\n",
    "• 1 ⩽ len(nums) ⩽ 100\n",
    "\n",
    "• 0 ⩽ nums[i] ⩽ 109"
   ]
  },
  {
   "cell_type": "code",
   "execution_count": null,
   "metadata": {},
   "outputs": [],
   "source": [
    "def compare(got, cur):\n",
    "    for i in range(min(len(cur), len(got))):\n",
    "        if ord(cur[i]) > ord(got[i]):\n",
    "            return cur\n",
    "        elif ord(cur[i]) < ord(got[i]):\n",
    "            return got\n",
    "        else:\n",
    "            if i == min(len(cur), len(got)) - 1:\n",
    "                if len(cur) == len(got):\n",
    "                    return cur\n",
    "                if len(got) > len(cur):\n",
    "                    longer = got\n",
    "                    shorter = cur\n",
    "                else:\n",
    "                    longer = cur\n",
    "                    shorter = got\n",
    "                if ord(longer[i + 1]) <= ord(shorter[0]):\n",
    "                    return shorter\n",
    "                else:\n",
    "                    return longer\n",
    "\n",
    "\n",
    "a = input().split()\n",
    "res = ''\n",
    "while len(a) > 0:\n",
    "    c = '0'\n",
    "    for i in a:\n",
    "        c = compare(i, c)\n",
    "    res += c\n",
    "    a.remove(c)\n",
    "if len(res) > 1 and res[0] == '0':\n",
    "    print(\"0\")\n",
    "else:\n",
    "    print(res)"
   ]
  },
  {
   "cell_type": "markdown",
   "metadata": {},
   "source": [
    "## Задача 3"
   ]
  },
  {
   "cell_type": "markdown",
   "metadata": {},
   "source": [
    "Дана матрица mat размером m * n, значения - целочисленные. Напишите функцию, сор тирующую каждую диагональ матрицы по возрастанию и возвращающую получившуюся матрицу.\n",
    "\n",
    "Ограничения:\n",
    "\n",
    "• m == len(mat)\n",
    "\n",
    "• n == len(mat[i])\n",
    "\n",
    "• 1 ⩽ m, n ⩽ 100\n",
    "\n",
    "• 1 ⩽ mat[i][j] ⩽ 100"
   ]
  },
  {
   "cell_type": "code",
   "execution_count": null,
   "metadata": {},
   "outputs": [],
   "source": [
    "mat = [\n",
    "    [11, 25, 66, 1, 69, 7], \n",
    "    [23, 55, 17, 45, 15, 52], \n",
    "    [75, 31, 36, 44, 58, 8], \n",
    "    [22, 27, 33, 25, 68, 4], \n",
    "    [84, 28, 14, 11, 5, 50]\n",
    "    ]"
   ]
  },
  {
   "cell_type": "code",
   "execution_count": null,
   "metadata": {},
   "outputs": [],
   "source": [
    "check = True\n",
    "for i in range(len(mat) - 1):\n",
    "    if len(mat[i]) != len(mat[i + 1]):\n",
    "        check = False\n",
    "        break\n",
    "if check:\n",
    "    for i in range(len(mat)):\n",
    "        array = []\n",
    "        for j in range(len(mat)):\n",
    "            if i + j < len(mat):\n",
    "                array.append(mat[i + j][0 + j])\n",
    "        array.sort()\n",
    "        for j in range(len(mat)):\n",
    "            if i + j < len(mat):\n",
    "                mat[i + j][0 + j] = array[j]\n",
    "    for i in range(1, len(mat[0])):\n",
    "        array = []\n",
    "        for j in range(len(mat[0])):\n",
    "            if i + j < len(mat[0]):\n",
    "                array.append(mat[0 + j][i + j])\n",
    "        array.sort()\n",
    "        for j in range(len(mat[0])):\n",
    "            if i + j < len(mat[0]):\n",
    "                mat[0 + j][i + j] = array[j]\n",
    "\n",
    "for i in range(len(mat)):\n",
    "    print(mat[i])"
   ]
  }
 ],
 "metadata": {
  "kernelspec": {
   "name": "python391jvsc74a57bd0e159defb5f97972724bdefb208d7312f9d46c34261680fb17c6a0687d836281c",
   "display_name": "Python 3.9.1 64-bit"
  },
  "language_info": {
   "codemirror_mode": {
    "name": "ipython",
    "version": 3
   },
   "file_extension": ".py",
   "mimetype": "text/x-python",
   "name": "python",
   "nbconvert_exporter": "python",
   "pygments_lexer": "ipython3",
   "version": "3.9.1"
  },
  "metadata": {
   "interpreter": {
    "hash": "e159defb5f97972724bdefb208d7312f9d46c34261680fb17c6a0687d836281c"
   }
  }
 },
 "nbformat": 4,
 "nbformat_minor": 4
}