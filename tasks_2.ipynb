{
 "cells": [
  {
   "cell_type": "markdown",
   "metadata": {},
   "source": [
    "# Пак задач 2"
   ]
  },
  {
   "cell_type": "markdown",
   "metadata": {},
   "source": [
    "## Задача 1"
   ]
  },
  {
   "cell_type": "markdown",
   "metadata": {},
   "source": [
    "Массив A состоит из целых положительных чисел - длин отрезков. Составьте из трех отрезков такой треугольник, чтобы его периметр был максимально возможным. Если невозможно составить треугольник с положительной площадью - функция возвращает 0.\n",
    "\n",
    "Ограничения:\n",
    "\n",
    "• 3 ⩽ len(A) ⩽ 10000\n",
    "\n",
    "• 1 ⩽ A[i] ⩽ 10^6"
   ]
  },
  {
   "cell_type": "code",
   "execution_count": null,
   "metadata": {},
   "outputs": [],
   "source": [
    "#функция для расчета максимального периметра\n",
    "def maxPerimeter(arr):\n",
    "        maxPer = 0\n",
    "        n = len(arr)\n",
    "        #перебираем все возможные комбинации чисел из массива по тройкам, так как иммем дело с треугольником\n",
    "        for i in range(n-2):\n",
    "            for j in range(i+1, n-1):\n",
    "                for k in range(j+1, n):\n",
    "                    a = arr[i]\n",
    "                    b = arr[j]\n",
    "                    c = arr[k]\n",
    "                    if a<b+c and b<a+c and c<a+b:\n",
    "                        maxPer = max(maxPer, a+b+c)\n",
    "        return str(maxPer)\n",
    "    \n",
    "#основная функция\n",
    "def main():\n",
    "    arr = [0]*int(input())\n",
    "    for i in range(len(arr)):\n",
    "        arr[i]=(int(input()))\n",
    "    print(arr)\n",
    "    print(maxPerimeter(arr))\n",
    "\n",
    "main()"
   ]
  },
  {
   "cell_type": "markdown",
   "metadata": {},
   "source": [
    "## Задача 2"
   ]
  },
  {
   "cell_type": "markdown",
   "metadata": {},
   "source": [
    "Дан массив неотрицательных целых чисел nums. Расположите их в таком порядке, чтобы вместе они образовали максимально возможное число. \n",
    "\n",
    "Замечание:\n",
    "\n",
    "Результат может быть очень большим числом, поэтому представьте его как string, а не integer.\n",
    "\n",
    "Ограничения:\n",
    "\n",
    "• 1 ⩽ len(nums) ⩽ 100\n",
    "\n",
    "• 0 ⩽ nums[i] ⩽ 109"
   ]
  },
  {
   "cell_type": "code",
   "execution_count": null,
   "metadata": {},
   "outputs": [],
   "source": [
    "#фукнция для получения самой большой комбинации\n",
    "def highestComb(arr):\n",
    "    # Получаем длинну (строковую) максимального элемента \n",
    "    maxLength = len(str(max(arr)))\n",
    "    # Превращяем все числа в массиве в строки\n",
    "    K = map(str, arr)\n",
    "    \n",
    "    #функция которая при сортировке дает числам с маленькой длинной больший вес\n",
    "    def sortKey(s):\n",
    "        return s + s[-1] * (maxLength - len(s))\n",
    "    \n",
    "    #сортируем масиив строк \n",
    "    sortedList = sorted(K, key=sortKey, reverse=True)\n",
    "    return ''.join(sortedList)\n",
    "    \n",
    "#основаня функция\n",
    "def main():\n",
    "    arr = [0]*int(input())\n",
    "    for i in range(len(arr)):\n",
    "        arr[i]=(int(input()))\n",
    "    print(arr)\n",
    "    print(highestComb(arr))\n",
    "\n",
    "main()"
   ]
  },
  {
   "cell_type": "markdown",
   "metadata": {},
   "source": [
    "## Задача 3"
   ]
  },
  {
   "cell_type": "markdown",
   "metadata": {},
   "source": [
    "Дана матрица mat размером m * n, значения - целочисленные. Напишите функцию, сор тирующую каждую диагональ матрицы по возрастанию и возвращающую получившуюся матрицу.\n",
    "\n",
    "Ограничения:\n",
    "\n",
    "• m == len(mat)\n",
    "\n",
    "• n == len(mat[i])\n",
    "\n",
    "• 1 ⩽ m, n ⩽ 100\n",
    "\n",
    "• 1 ⩽ mat[i][j] ⩽ 100"
   ]
  },
  {
   "cell_type": "code",
   "execution_count": null,
   "metadata": {},
   "outputs": [],
   "source": []
  }
 ],
 "metadata": {
  "kernelspec": {
   "display_name": "Python 3",
   "language": "python",
   "name": "python3"
  },
  "language_info": {
   "codemirror_mode": {
    "name": "ipython",
    "version": 3
   },
   "file_extension": ".py",
   "mimetype": "text/x-python",
   "name": "python",
   "nbconvert_exporter": "python",
   "pygments_lexer": "ipython3",
   "version": "3.8.5"
  }
 },
 "nbformat": 4,
 "nbformat_minor": 4
}