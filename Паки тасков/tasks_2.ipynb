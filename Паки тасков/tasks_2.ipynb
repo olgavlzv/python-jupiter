{
 "cells": [
  {
   "cell_type": "markdown",
   "metadata": {},
   "source": [
    "# Пак задач 2"
   ]
  },
  {
   "cell_type": "markdown",
   "metadata": {},
   "source": [
    "## Задача 1"
   ]
  },
  {
   "cell_type": "markdown",
   "metadata": {},
   "source": [
    "Массив A состоит из целых положительных чисел - длин отрезков. Составьте из трех отрезков такой треугольник, чтобы его периметр был максимально возможным. Если невозможно составить треугольник с положительной площадью - функция возвращает 0.\n",
    "\n",
    "Ограничения:\n",
    "\n",
    "• 3 ⩽ len(A) ⩽ 10000\n",
    "\n",
    "• 1 ⩽ A[i] ⩽ 10^6"
   ]
  },
  {
   "cell_type": "code",
   "execution_count": 4,
   "metadata": {},
   "outputs": [
    {
     "name": "stdout",
     "output_type": "stream",
     "text": [
      "[14, 13, 10, 9, 7, 6]\n",
      "37\n"
     ]
    }
   ],
   "source": [
    "a = input().split() # Ввод массива\n",
    "for i in range(len(a)):\n",
    "    a[i] = int(a[i]) # Перевод строки в целочисленные значения\n",
    "a.sort(reverse=True) # Сортировка в порядке убывания\n",
    "max_length = 0\n",
    "for i in range(len(a)):\n",
    "    for j in range(i + 1, len(a)):\n",
    "        for k in range(j + 1, len(a)):\n",
    "            if a[i] <= a[j] + a[k]: # Проверка условия существования треугольника из отрезков определенной длины\n",
    "                max_length = max(max_length, a[i] + a[j] + a[k]) # Сохранение max значения\n",
    "print(a)\n",
    "print(max_length)"
   ]
  },
  {
   "cell_type": "markdown",
   "metadata": {},
   "source": [
    "## Задача 2"
   ]
  },
  {
   "cell_type": "markdown",
   "metadata": {},
   "source": [
    "Дан массив неотрицательных целых чисел nums. Расположите их в таком порядке, чтобы вместе они образовали максимально возможное число. \n",
    "\n",
    "Замечание:\n",
    "\n",
    "Результат может быть очень большим числом, поэтому представьте его как string, а не integer.\n",
    "\n",
    "Ограничения:\n",
    "\n",
    "• 1 ⩽ len(nums) ⩽ 100\n",
    "\n",
    "• 0 ⩽ nums[i] ⩽ 109"
   ]
  },
  {
   "cell_type": "code",
   "execution_count": null,
   "metadata": {},
   "outputs": [],
   "source": [
    "def compare(got = 343, cur = 34): # Для сравнения двух чисел\n",
    "    for i in range(min(len(cur), len(got))): # Цикл бежит по мин. длине среди двух чисел\n",
    "        if ord(cur[i]) > ord(got[i]): # Если cur больше, возвращаем cur\n",
    "            return cur\n",
    "        elif ord(cur[i]) < ord(got[i]): # Если got больше, возвращаем got\n",
    "            return got\n",
    "        else:\n",
    "            if i == min(len(cur), len(got)) - 1: # если последняя итерация\n",
    "                if len(cur) == len(got): # числа равны - неважно, что возвращать\n",
    "                    return cur\n",
    "                if len(got) > len(cur): # сравнение по длине числа\n",
    "                    longer = got\n",
    "                    shorter = cur\n",
    "                else:\n",
    "                    longer = cur\n",
    "                    shorter = got\n",
    "                if ord(longer[i + 1]) <= ord(shorter[0]): # сравнение (i+1)-ой цифры длинного числа с первой цифрой короткого\n",
    "                    return shorter\n",
    "                else:\n",
    "                    return longer\n",
    "\n",
    "\n",
    "a = input().split()\n",
    "res = ''\n",
    "while len(a) > 0:\n",
    "    c = '0'\n",
    "    for i in a: # for each - i принимает значение a[j]\n",
    "        c = compare(i, c)\n",
    "    res += c\n",
    "    a.remove(c)\n",
    "if len(res) > 1 and res[0] == '0':\n",
    "    print(\"0\")\n",
    "else:\n",
    "    print(res)"
   ]
  },
  {
   "cell_type": "markdown",
   "metadata": {},
   "source": [
    "## Задача 3"
   ]
  },
  {
   "cell_type": "markdown",
   "metadata": {},
   "source": [
    "Дана матрица mat размером m * n, значения - целочисленные. Напишите функцию, сортирующую каждую диагональ матрицы по возрастанию и возвращающую получившуюся матрицу.\n",
    "\n",
    "Ограничения:\n",
    "\n",
    "• m == len(mat)\n",
    "\n",
    "• n == len(mat[i])\n",
    "\n",
    "• 1 ⩽ m, n ⩽ 100\n",
    "\n",
    "• 1 ⩽ mat[i][j] ⩽ 100"
   ]
  },
  {
   "cell_type": "code",
   "execution_count": 3,
   "metadata": {},
   "outputs": [],
   "source": [
    "mat = [\n",
    "    [11, 25, 66, 1, 69, 7], \n",
    "    [23, 55, 17, 45, 15, 52], \n",
    "    [75, 31, 36, 44, 58, 8], \n",
    "    [22, 27, 33, 25, 68, 4], \n",
    "    [84, 28, 14, 11, 5, 50]\n",
    "    ]"
   ]
  },
  {
   "cell_type": "code",
   "execution_count": 4,
   "metadata": {},
   "outputs": [
    {
     "name": "stdout",
     "output_type": "stream",
     "text": [
      "[5, 17, 4, 1, 52, 7]\n",
      "[11, 11, 25, 45, 8, 69]\n",
      "[14, 23, 25, 44, 58, 15]\n",
      "[22, 27, 31, 36, 50, 66]\n",
      "[84, 28, 75, 33, 55, 68]\n"
     ]
    }
   ],
   "source": [
    "check = True # Для проверки на одинаковую длину строк\n",
    "for i in range(len(mat) - 1):\n",
    "    if len(mat[i]) != len(mat[i + 1]):\n",
    "        check = False # Если False, то это даже не матрица\n",
    "        break\n",
    "if check:\n",
    "    for i in range(len(mat)): # Проходимся по вертикали\n",
    "        array = []\n",
    "        for j in range(len(mat)):\n",
    "            if i + j < len(mat):\n",
    "                array.append(mat[i + j][0 + j]) # Заполняем новый массив\n",
    "        array.sort() # Сортируем этот массив по возрастанию\n",
    "        for j in range(len(mat)): # Тут возвращаем отсортированные элементы в диагональ начальной матрицы\n",
    "            if i + j < len(mat):\n",
    "                mat[i + j][0 + j] = array[j]\n",
    "    for i in range(1, len(mat[0])): # Проходимся по горизонтали\n",
    "        array = []\n",
    "        for j in range(len(mat[0])):\n",
    "            if i + j < len(mat[0]):\n",
    "                array.append(mat[0 + j][i + j])\n",
    "        array.sort()\n",
    "        for j in range(len(mat[0])):\n",
    "            if i + j < len(mat[0]):\n",
    "                mat[0 + j][i + j] = array[j]\n",
    "\n",
    "for i in range(len(mat)):\n",
    "    print(mat[i])"
   ]
  },
  {
   "cell_type": "code",
   "execution_count": null,
   "metadata": {},
   "outputs": [],
   "source": []
  }
 ],
 "metadata": {
  "kernelspec": {
   "display_name": "Python 3",
   "language": "python",
   "name": "python3"
  },
  "language_info": {
   "codemirror_mode": {
    "name": "ipython",
    "version": 3
   },
   "file_extension": ".py",
   "mimetype": "text/x-python",
   "name": "python",
   "nbconvert_exporter": "python",
   "pygments_lexer": "ipython3",
   "version": "3.8.5"
  },
  "metadata": {
   "interpreter": {
    "hash": "e159defb5f97972724bdefb208d7312f9d46c34261680fb17c6a0687d836281c"
   }
  }
 },
 "nbformat": 4,
 "nbformat_minor": 4
}
