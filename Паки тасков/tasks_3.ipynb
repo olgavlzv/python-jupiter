{
 "cells": [
  {
   "cell_type": "markdown",
   "metadata": {},
   "source": [
    "# Пак задач 3"
   ]
  },
  {
   "cell_type": "markdown",
   "metadata": {},
   "source": [
    "## Задача 1"
   ]
  },
  {
   "cell_type": "markdown",
   "metadata": {},
   "source": [
    "Даны две строки: s1 и s2 с одинаковым размером, проверьте, может ли некоторая перестановка строки s1 “победить” некоторую перестановку строки s2 или наоборот.\n",
    "Строка x может “победить” строку y (обе имеют размер n), если x[i]> = y[i] (в алфавитном порядке) для всех i от 0 до n-1."
   ]
  },
  {
   "cell_type": "code",
   "execution_count": 1,
   "metadata": {},
   "outputs": [
    {
     "output_type": "stream",
     "name": "stdout",
     "text": [
      "True\n"
     ]
    }
   ],
   "source": [
    "# Возвращает массив со всеми возможными комбинациями\n",
    "def permutation(pa):\n",
    "    res = []\n",
    "    _permutation(pa, 0, res)\n",
    "    return res\n",
    "\n",
    "# Добавляет в массив с результатами новые комбинации \n",
    "def _permutation(pa, i, res):\n",
    "    if i == len(pa) - 1:\n",
    "        elem = ''\n",
    "        for a in pa:\n",
    "            elem += str(a)\n",
    "        if elem not in res:\n",
    "            res.append(elem)\n",
    "    else:\n",
    "        for j in range(i, len(pa)):\n",
    "            swap(pa, i, j)\n",
    "            _permutation(pa, i + 1, res)\n",
    "            swap(pa, i, j)\n",
    "\n",
    "# Меняет местами элементы в массиве (из конца в начало)\n",
    "def swap(pa, i, j):\n",
    "    k = pa[i]\n",
    "    pa[i] = pa[j]\n",
    "    pa[j] = k\n",
    "\n",
    "# Основное тело программы\n",
    "s1 = input() # Вводим строку S1\n",
    "s2 = input() # Вводим строку S2\n",
    "if len(s1) == len(s2):\n",
    "    list_s1 = list(s1); list_s2 = list(s2)\n",
    "    perms_s1 = permutation(list_s1) # массив с комбинациями строки s1\n",
    "    perms_s2 = permutation(list_s2) # массив с комбинациями строки s2\n",
    "    res_s1 = []; res_s2 = []\n",
    "    for i in perms_s1:\n",
    "        for j in perms_s2:\n",
    "            c = True\n",
    "            for k in range(len(s1)):\n",
    "                if ord(i[k]) < ord(j[k]):\n",
    "                    c = False\n",
    "            if c and i not in res_s1:\n",
    "                res_s1.append(i)\n",
    "    for i in perms_s2:\n",
    "        for j in perms_s1:\n",
    "            c = True\n",
    "            for k in range(len(s1)):\n",
    "                if ord(i[k]) < ord(j[k]):\n",
    "                    c = False\n",
    "            if c and i not in res_s2:\n",
    "                res_s2.append(i)\n",
    "    print(len(res_s1) > 0 or len(res_s2) > 0)\n",
    "else:\n",
    "    print(\"Длинны строк должны совпадать!\")"
   ]
  },
  {
   "cell_type": "markdown",
   "metadata": {},
   "source": [
    "## Задача 2"
   ]
  },
  {
   "cell_type": "markdown",
   "metadata": {},
   "source": [
    "Дана строка s, вернуть самую длинную полиндромную подстроку в s."
   ]
  },
  {
   "cell_type": "code",
   "execution_count": 9,
   "metadata": {},
   "outputs": [
    {
     "output_type": "stream",
     "name": "stdout",
     "text": [
      "favaff\nfavaf\n"
     ]
    }
   ],
   "source": [
    "# Функция возвращает перевернутую строку\n",
    "def reversed(str):\n",
    "    return str[::-1]\n",
    "\n",
    "# Основное тело программы\n",
    "s = input()\n",
    "print(s)\n",
    "res = ''\n",
    "for i in range(len(s)-2):\n",
    "    for j in range(i+2, len(s)+1):\n",
    "        if s[i:j] == reversed(s[i:j]):\n",
    "            if len(s[i:j]) >= len(res):\n",
    "                res = s[i:j]\n",
    "if res == '':\n",
    "    print(\"Тут нет палиндромов!\") \n",
    "else: \n",
    "    print(res)"
   ]
  },
  {
   "cell_type": "markdown",
   "metadata": {},
   "source": [
    "## Задача 3"
   ]
  },
  {
   "cell_type": "markdown",
   "metadata": {},
   "source": [
    "Вернуть количество отдельных непустых подстрок текста, которые могут быть записаны как конкатенация некоторой строки с самой собой (т.е. она может быть записана, как a + a, где a - некоторая строка)."
   ]
  },
  {
   "cell_type": "code",
   "execution_count": 11,
   "metadata": {},
   "outputs": [
    {
     "output_type": "stream",
     "name": "stdout",
     "text": [
      "abcabcabc\nabcabc\n"
     ]
    }
   ],
   "source": [
    "s = input()\n",
    "print(s)\n",
    "res = ''\n",
    "for i in range(len(s)-2):\n",
    "    for j in range(i+2, len(s)+1):\n",
    "        if (j - i) % 2 == 0:\n",
    "            center = (i + j) // 2\n",
    "            if s[i:center] == s[center:j] and len(s[i:j]) >= len(res):\n",
    "                res = s[i:j]\n",
    "\n",
    "if res == '': \n",
    "    print(\"Таких подстрок нет!\")\n",
    "else:\n",
    "    print(res)"
   ]
  },
  {
   "cell_type": "code",
   "execution_count": null,
   "metadata": {},
   "outputs": [],
   "source": []
  }
 ],
 "metadata": {
  "kernelspec": {
   "name": "python391jvsc74a57bd0e159defb5f97972724bdefb208d7312f9d46c34261680fb17c6a0687d836281c",
   "display_name": "Python 3.9.1 64-bit"
  },
  "language_info": {
   "codemirror_mode": {
    "name": "ipython",
    "version": 3
   },
   "file_extension": ".py",
   "mimetype": "text/x-python",
   "name": "python",
   "nbconvert_exporter": "python",
   "pygments_lexer": "ipython3",
   "version": "3.9.1"
  },
  "metadata": {
   "interpreter": {
    "hash": "e159defb5f97972724bdefb208d7312f9d46c34261680fb17c6a0687d836281c"
   }
  }
 },
 "nbformat": 4,
 "nbformat_minor": 4
}